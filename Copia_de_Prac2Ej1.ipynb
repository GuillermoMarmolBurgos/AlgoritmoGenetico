{
  "nbformat": 4,
  "nbformat_minor": 0,
  "metadata": {
    "colab": {
      "provenance": [],
      "include_colab_link": true
    },
    "kernelspec": {
      "name": "python3",
      "display_name": "Python 3"
    },
    "language_info": {
      "name": "python"
    }
  },
  "cells": [
    {
      "cell_type": "markdown",
      "metadata": {
        "id": "view-in-github",
        "colab_type": "text"
      },
      "source": [
        "<a href=\"https://colab.research.google.com/github/GuillermoMarmolBurgos/AlgoritmoGenetico/blob/main/Copia_de_Prac2Ej1.ipynb\" target=\"_parent\"><img src=\"https://colab.research.google.com/assets/colab-badge.svg\" alt=\"Open In Colab\"/></a>"
      ]
    },
    {
      "cell_type": "markdown",
      "source": [
        "# Funcionamiento de las LIBRERIAS mlxtend o apyori"
      ],
      "metadata": {
        "id": "5LlBpXd2yhHC"
      }
    },
    {
      "cell_type": "code",
      "source": [
        "import numpy as np\n",
        "import pandas as pd\n",
        "import matplotlib.pyplot as plt\n",
        "from sklearn import datasets\n",
        "\n",
        "from mlxtend.frequent_patterns import apriori, association_rules\n",
        "\n",
        "#pip install mlxtend  "
      ],
      "metadata": {
        "id": "Rt81YtPQyGrH"
      },
      "execution_count": 26,
      "outputs": []
    },
    {
      "cell_type": "code",
      "source": [
        "data = pd.read_csv('BlackFriday.csv', encoding='UTF-8')\n",
        "data.head()\n"
      ],
      "metadata": {
        "colab": {
          "base_uri": "https://localhost:8080/",
          "height": 206
        },
        "id": "ZMwQHeXs3wI8",
        "outputId": "535487c6-ab48-4c8d-f156-ba2f2b4e9b20"
      },
      "execution_count": 5,
      "outputs": [
        {
          "output_type": "execute_result",
          "data": {
            "text/plain": [
              "   User_ID Product_ID Gender    Age  Occupation City_Category  \\\n",
              "0  1000004  P00128942      M  46-50           7             B   \n",
              "1  1000009  P00113442      M  26-35          17             C   \n",
              "2  1000010  P00288442      F  36-45           1             B   \n",
              "3  1000010  P00145342      F  36-45           1             B   \n",
              "4  1000011  P00053842      F  26-35           1             C   \n",
              "\n",
              "  Stay_In_Current_City_Years  Marital_Status  Product_Category_1  \\\n",
              "0                          2               1                   1   \n",
              "1                          0               0                   3   \n",
              "2                         4+               1                   5   \n",
              "3                         4+               1                   4   \n",
              "4                          1               0                   4   \n",
              "\n",
              "   Product_Category_2  Product_Category_3  \n",
              "0                11.0                 NaN  \n",
              "1                 5.0                 NaN  \n",
              "2                14.0                 NaN  \n",
              "3                 9.0                 NaN  \n",
              "4                 5.0                12.0  "
            ],
            "text/html": [
              "\n",
              "  <div id=\"df-31021476-2f10-445f-b922-748d9fae94eb\">\n",
              "    <div class=\"colab-df-container\">\n",
              "      <div>\n",
              "<style scoped>\n",
              "    .dataframe tbody tr th:only-of-type {\n",
              "        vertical-align: middle;\n",
              "    }\n",
              "\n",
              "    .dataframe tbody tr th {\n",
              "        vertical-align: top;\n",
              "    }\n",
              "\n",
              "    .dataframe thead th {\n",
              "        text-align: right;\n",
              "    }\n",
              "</style>\n",
              "<table border=\"1\" class=\"dataframe\">\n",
              "  <thead>\n",
              "    <tr style=\"text-align: right;\">\n",
              "      <th></th>\n",
              "      <th>User_ID</th>\n",
              "      <th>Product_ID</th>\n",
              "      <th>Gender</th>\n",
              "      <th>Age</th>\n",
              "      <th>Occupation</th>\n",
              "      <th>City_Category</th>\n",
              "      <th>Stay_In_Current_City_Years</th>\n",
              "      <th>Marital_Status</th>\n",
              "      <th>Product_Category_1</th>\n",
              "      <th>Product_Category_2</th>\n",
              "      <th>Product_Category_3</th>\n",
              "    </tr>\n",
              "  </thead>\n",
              "  <tbody>\n",
              "    <tr>\n",
              "      <th>0</th>\n",
              "      <td>1000004</td>\n",
              "      <td>P00128942</td>\n",
              "      <td>M</td>\n",
              "      <td>46-50</td>\n",
              "      <td>7</td>\n",
              "      <td>B</td>\n",
              "      <td>2</td>\n",
              "      <td>1</td>\n",
              "      <td>1</td>\n",
              "      <td>11.0</td>\n",
              "      <td>NaN</td>\n",
              "    </tr>\n",
              "    <tr>\n",
              "      <th>1</th>\n",
              "      <td>1000009</td>\n",
              "      <td>P00113442</td>\n",
              "      <td>M</td>\n",
              "      <td>26-35</td>\n",
              "      <td>17</td>\n",
              "      <td>C</td>\n",
              "      <td>0</td>\n",
              "      <td>0</td>\n",
              "      <td>3</td>\n",
              "      <td>5.0</td>\n",
              "      <td>NaN</td>\n",
              "    </tr>\n",
              "    <tr>\n",
              "      <th>2</th>\n",
              "      <td>1000010</td>\n",
              "      <td>P00288442</td>\n",
              "      <td>F</td>\n",
              "      <td>36-45</td>\n",
              "      <td>1</td>\n",
              "      <td>B</td>\n",
              "      <td>4+</td>\n",
              "      <td>1</td>\n",
              "      <td>5</td>\n",
              "      <td>14.0</td>\n",
              "      <td>NaN</td>\n",
              "    </tr>\n",
              "    <tr>\n",
              "      <th>3</th>\n",
              "      <td>1000010</td>\n",
              "      <td>P00145342</td>\n",
              "      <td>F</td>\n",
              "      <td>36-45</td>\n",
              "      <td>1</td>\n",
              "      <td>B</td>\n",
              "      <td>4+</td>\n",
              "      <td>1</td>\n",
              "      <td>4</td>\n",
              "      <td>9.0</td>\n",
              "      <td>NaN</td>\n",
              "    </tr>\n",
              "    <tr>\n",
              "      <th>4</th>\n",
              "      <td>1000011</td>\n",
              "      <td>P00053842</td>\n",
              "      <td>F</td>\n",
              "      <td>26-35</td>\n",
              "      <td>1</td>\n",
              "      <td>C</td>\n",
              "      <td>1</td>\n",
              "      <td>0</td>\n",
              "      <td>4</td>\n",
              "      <td>5.0</td>\n",
              "      <td>12.0</td>\n",
              "    </tr>\n",
              "  </tbody>\n",
              "</table>\n",
              "</div>\n",
              "      <button class=\"colab-df-convert\" onclick=\"convertToInteractive('df-31021476-2f10-445f-b922-748d9fae94eb')\"\n",
              "              title=\"Convert this dataframe to an interactive table.\"\n",
              "              style=\"display:none;\">\n",
              "        \n",
              "  <svg xmlns=\"http://www.w3.org/2000/svg\" height=\"24px\"viewBox=\"0 0 24 24\"\n",
              "       width=\"24px\">\n",
              "    <path d=\"M0 0h24v24H0V0z\" fill=\"none\"/>\n",
              "    <path d=\"M18.56 5.44l.94 2.06.94-2.06 2.06-.94-2.06-.94-.94-2.06-.94 2.06-2.06.94zm-11 1L8.5 8.5l.94-2.06 2.06-.94-2.06-.94L8.5 2.5l-.94 2.06-2.06.94zm10 10l.94 2.06.94-2.06 2.06-.94-2.06-.94-.94-2.06-.94 2.06-2.06.94z\"/><path d=\"M17.41 7.96l-1.37-1.37c-.4-.4-.92-.59-1.43-.59-.52 0-1.04.2-1.43.59L10.3 9.45l-7.72 7.72c-.78.78-.78 2.05 0 2.83L4 21.41c.39.39.9.59 1.41.59.51 0 1.02-.2 1.41-.59l7.78-7.78 2.81-2.81c.8-.78.8-2.07 0-2.86zM5.41 20L4 18.59l7.72-7.72 1.47 1.35L5.41 20z\"/>\n",
              "  </svg>\n",
              "      </button>\n",
              "      \n",
              "  <style>\n",
              "    .colab-df-container {\n",
              "      display:flex;\n",
              "      flex-wrap:wrap;\n",
              "      gap: 12px;\n",
              "    }\n",
              "\n",
              "    .colab-df-convert {\n",
              "      background-color: #E8F0FE;\n",
              "      border: none;\n",
              "      border-radius: 50%;\n",
              "      cursor: pointer;\n",
              "      display: none;\n",
              "      fill: #1967D2;\n",
              "      height: 32px;\n",
              "      padding: 0 0 0 0;\n",
              "      width: 32px;\n",
              "    }\n",
              "\n",
              "    .colab-df-convert:hover {\n",
              "      background-color: #E2EBFA;\n",
              "      box-shadow: 0px 1px 2px rgba(60, 64, 67, 0.3), 0px 1px 3px 1px rgba(60, 64, 67, 0.15);\n",
              "      fill: #174EA6;\n",
              "    }\n",
              "\n",
              "    [theme=dark] .colab-df-convert {\n",
              "      background-color: #3B4455;\n",
              "      fill: #D2E3FC;\n",
              "    }\n",
              "\n",
              "    [theme=dark] .colab-df-convert:hover {\n",
              "      background-color: #434B5C;\n",
              "      box-shadow: 0px 1px 3px 1px rgba(0, 0, 0, 0.15);\n",
              "      filter: drop-shadow(0px 1px 2px rgba(0, 0, 0, 0.3));\n",
              "      fill: #FFFFFF;\n",
              "    }\n",
              "  </style>\n",
              "\n",
              "      <script>\n",
              "        const buttonEl =\n",
              "          document.querySelector('#df-31021476-2f10-445f-b922-748d9fae94eb button.colab-df-convert');\n",
              "        buttonEl.style.display =\n",
              "          google.colab.kernel.accessAllowed ? 'block' : 'none';\n",
              "\n",
              "        async function convertToInteractive(key) {\n",
              "          const element = document.querySelector('#df-31021476-2f10-445f-b922-748d9fae94eb');\n",
              "          const dataTable =\n",
              "            await google.colab.kernel.invokeFunction('convertToInteractive',\n",
              "                                                     [key], {});\n",
              "          if (!dataTable) return;\n",
              "\n",
              "          const docLinkHtml = 'Like what you see? Visit the ' +\n",
              "            '<a target=\"_blank\" href=https://colab.research.google.com/notebooks/data_table.ipynb>data table notebook</a>'\n",
              "            + ' to learn more about interactive tables.';\n",
              "          element.innerHTML = '';\n",
              "          dataTable['output_type'] = 'display_data';\n",
              "          await google.colab.output.renderOutput(dataTable, element);\n",
              "          const docLink = document.createElement('div');\n",
              "          docLink.innerHTML = docLinkHtml;\n",
              "          element.appendChild(docLink);\n",
              "        }\n",
              "      </script>\n",
              "    </div>\n",
              "  </div>\n",
              "  "
            ]
          },
          "metadata": {},
          "execution_count": 5
        }
      ]
    },
    {
      "cell_type": "code",
      "source": [
        "data.columns"
      ],
      "metadata": {
        "colab": {
          "base_uri": "https://localhost:8080/"
        },
        "id": "fNBThuo14kbd",
        "outputId": "f17eb682-8357-4785-f463-e188a948bfee"
      },
      "execution_count": 6,
      "outputs": [
        {
          "output_type": "execute_result",
          "data": {
            "text/plain": [
              "Index(['User_ID', 'Product_ID', 'Gender', 'Age', 'Occupation', 'City_Category',\n",
              "       'Stay_In_Current_City_Years', 'Marital_Status', 'Product_Category_1',\n",
              "       'Product_Category_2', 'Product_Category_3'],\n",
              "      dtype='object')"
            ]
          },
          "metadata": {},
          "execution_count": 6
        }
      ]
    },
    {
      "cell_type": "markdown",
      "source": [
        "Vamos a ver las ocurrencias de datos en las columnas de nuestro dataframe. Obviaremos product ID y user ID ya que los dos son unicos o hay muchos registros distintos de cada valor.\n"
      ],
      "metadata": {
        "id": "QQ5PPYqx3mVH"
      }
    },
    {
      "cell_type": "code",
      "source": [
        "cols_interes= data.columns[2:]\n",
        "for col in cols_interes:\n",
        "    print(f'Valores de la columa {col}: {data[col].unique()}')"
      ],
      "metadata": {
        "id": "8Vezukm73lnr",
        "outputId": "68f5247c-6d92-4476-b659-4e5e8d661664",
        "colab": {
          "base_uri": "https://localhost:8080/"
        }
      },
      "execution_count": 7,
      "outputs": [
        {
          "output_type": "stream",
          "name": "stdout",
          "text": [
            "Valores de la columa Gender: ['M' 'F']\n",
            "Valores de la columa Age: ['46-50' '26-35' '36-45' '18-25' '51-55' '55+' '0-17']\n",
            "Valores de la columa Occupation: [ 7 17  1 15  3  0  8 16  4 12 13 18 11  9  2 20 14 10  6 19  5]\n",
            "Valores de la columa City_Category: ['B' 'C' 'A']\n",
            "Valores de la columa Stay_In_Current_City_Years: ['2' '0' '4+' '1' '3']\n",
            "Valores de la columa Marital_Status: [1 0]\n",
            "Valores de la columa Product_Category_1: [ 1  3  5  4  2 10 15 18  8 13  6 11 12  7 16 14 17  9]\n",
            "Valores de la columa Product_Category_2: [11.  5. 14.  9.  3.  4. 13.  2. nan  8. 15. 17. 12. 16.  6. 10. 18.  7.]\n",
            "Valores de la columa Product_Category_3: [nan 12. 15.  9. 16. 14.  4.  3.  5.  8. 17. 13. 11. 10.  6. 18.]\n"
          ]
        }
      ]
    },
    {
      "cell_type": "markdown",
      "source": [
        "Vemos que las columas de Gender y Maritial Status son binarias. Las demas de pueden pasar a categoricas usando la fucnion .get_dummies. Esto lo haremos mas alanete ya que primero hay que comprobar si hay valores repetidos o nulos."
      ],
      "metadata": {
        "id": "qJ8c6vc55DAy"
      }
    },
    {
      "cell_type": "code",
      "source": [
        "data.isnull().values.any() "
      ],
      "metadata": {
        "colab": {
          "base_uri": "https://localhost:8080/"
        },
        "id": "b24Boari4iUE",
        "outputId": "14248d4f-731c-4267-de8c-6e9ea7c774c8"
      },
      "execution_count": 8,
      "outputs": [
        {
          "output_type": "execute_result",
          "data": {
            "text/plain": [
              "True"
            ]
          },
          "metadata": {},
          "execution_count": 8
        }
      ]
    },
    {
      "cell_type": "markdown",
      "source": [
        "Vemos en que columnas hay NA's"
      ],
      "metadata": {
        "id": "zH2WdB3mN-lr"
      }
    },
    {
      "cell_type": "code",
      "source": [
        "data.isna().sum()  "
      ],
      "metadata": {
        "colab": {
          "base_uri": "https://localhost:8080/"
        },
        "id": "kXA6d1dBNkgH",
        "outputId": "5e127974-021e-4a5f-9628-8c68d894f902"
      },
      "execution_count": 9,
      "outputs": [
        {
          "output_type": "execute_result",
          "data": {
            "text/plain": [
              "User_ID                            0\n",
              "Product_ID                         0\n",
              "Gender                             0\n",
              "Age                                0\n",
              "Occupation                         0\n",
              "City_Category                      0\n",
              "Stay_In_Current_City_Years         0\n",
              "Marital_Status                     0\n",
              "Product_Category_1                 0\n",
              "Product_Category_2             72344\n",
              "Product_Category_3            162562\n",
              "dtype: int64"
            ]
          },
          "metadata": {},
          "execution_count": 9
        }
      ]
    },
    {
      "cell_type": "markdown",
      "source": [
        "Los valores de NaN aparecen en Product Category. Vamos a comprobar el rango de valores para estas dos categorias."
      ],
      "metadata": {
        "id": "KifAX0FySITb"
      }
    },
    {
      "cell_type": "code",
      "source": [
        "print(data['Product_Category_1'].min(), data['Product_Category_1'].max(), data['Product_Category_1'].mean())"
      ],
      "metadata": {
        "colab": {
          "base_uri": "https://localhost:8080/"
        },
        "id": "kNF3BI2qQIFB",
        "outputId": "e1aed96a-a876-4df4-a04c-3aad601821bc"
      },
      "execution_count": 10,
      "outputs": [
        {
          "output_type": "stream",
          "name": "stdout",
          "text": [
            "1 18 5.276542279718663\n"
          ]
        }
      ]
    },
    {
      "cell_type": "code",
      "source": [
        "print(data['Product_Category_2'].min(), data['Product_Category_2'].max(), data['Product_Category_2'].mean())\n"
      ],
      "metadata": {
        "colab": {
          "base_uri": "https://localhost:8080/"
        },
        "id": "ZC-dd7r_RjWk",
        "outputId": "fb4b0e36-f9e2-4bf5-e3cd-5df2d9d57854"
      },
      "execution_count": 11,
      "outputs": [
        {
          "output_type": "stream",
          "name": "stdout",
          "text": [
            "2.0 18.0 9.849586059346997\n"
          ]
        }
      ]
    },
    {
      "cell_type": "code",
      "source": [
        "print(data['Product_Category_3'].min(), data['Product_Category_3'].max(), data['Product_Category_3'].mean())"
      ],
      "metadata": {
        "colab": {
          "base_uri": "https://localhost:8080/"
        },
        "id": "bj1yUTAAR3XV",
        "outputId": "a0bc4f73-3756-472f-c1a1-c4888497342b"
      },
      "execution_count": 12,
      "outputs": [
        {
          "output_type": "stream",
          "name": "stdout",
          "text": [
            "3.0 18.0 12.669453946534905\n"
          ]
        }
      ]
    },
    {
      "cell_type": "markdown",
      "source": [
        "Observamos que las dos columnas tienen valores minimos de 2 y 3 respectivamente. Por tanto los valores NaN se pueden igualar a 0 para que asi se contemplen en el analisis de los datos pero no influyan al estudio. "
      ],
      "metadata": {
        "id": "D5xJB1FrSYCb"
      }
    },
    {
      "cell_type": "code",
      "source": [
        "data.fillna(0, inplace=True)"
      ],
      "metadata": {
        "id": "8DOQZ6VxOh6C"
      },
      "execution_count": 13,
      "outputs": []
    },
    {
      "cell_type": "markdown",
      "source": [
        "Vemos si hay algún dato duplicado"
      ],
      "metadata": {
        "id": "K6y1V4vGSSSL"
      }
    },
    {
      "cell_type": "code",
      "source": [
        "if any(data.duplicated()):\n",
        "  print(\"Hay datos duplicados\")\n",
        "else:\n",
        "  print(\"No hay datos duplicados\")"
      ],
      "metadata": {
        "colab": {
          "base_uri": "https://localhost:8080/"
        },
        "id": "4M4fwdekzzD7",
        "outputId": "3ac5ec79-4570-4a36-e62b-790990a1ac1e"
      },
      "execution_count": 14,
      "outputs": [
        {
          "output_type": "stream",
          "name": "stdout",
          "text": [
            "No hay datos duplicados\n"
          ]
        }
      ]
    },
    {
      "cell_type": "markdown",
      "source": [
        "- Prueba al menos tres configuraciones de soporte y frecuencia para cada género, edad y tipo de producto."
      ],
      "metadata": {
        "id": "oPtk1pVpHjde"
      }
    },
    {
      "cell_type": "code",
      "source": [
        "# Variables categoricas a dummy \n",
        "dummy_df = pd.get_dummies(data,columns=['Product_ID','Gender','Age','Occupation','City_Category','Stay_In_Current_City_Years','Marital_Status','Product_Category_1','Product_Category_2','Product_Category_3'])\n",
        "\n",
        "# Concatenamos las variables dummy con el DataFrame original\n",
        "data4 = pd.concat([data, dummy_df], axis=1)\n",
        "\n",
        "# Drop las columnas originales. Ademas Drop de User_ID ya que es unico para cada cliente\n",
        "data4.drop(['User_ID','Product_ID','Gender','Age','Occupation','City_Category','Stay_In_Current_City_Years','Marital_Status','Product_Category_1','Product_Category_2','Product_Category_3'], axis=1, inplace=True)\n",
        "\n",
        "data4.head()\n"
      ],
      "metadata": {
        "id": "qfz6zFwz2wzA",
        "colab": {
          "base_uri": "https://localhost:8080/",
          "height": 299
        },
        "outputId": "3eb6fb32-4c3b-4aca-8b21-b10a467bd0db"
      },
      "execution_count": 38,
      "outputs": [
        {
          "output_type": "execute_result",
          "data": {
            "text/plain": [
              "   Product_ID_P00000142  Product_ID_P00000242  Product_ID_P00000342  \\\n",
              "0                     0                     0                     0   \n",
              "1                     0                     0                     0   \n",
              "2                     0                     0                     0   \n",
              "3                     0                     0                     0   \n",
              "4                     0                     0                     0   \n",
              "\n",
              "   Product_ID_P00000442  Product_ID_P00000542  Product_ID_P00000642  \\\n",
              "0                     0                     0                     0   \n",
              "1                     0                     0                     0   \n",
              "2                     0                     0                     0   \n",
              "3                     0                     0                     0   \n",
              "4                     0                     0                     0   \n",
              "\n",
              "   Product_ID_P00000742  Product_ID_P00000842  Product_ID_P00000942  \\\n",
              "0                     0                     0                     0   \n",
              "1                     0                     0                     0   \n",
              "2                     0                     0                     0   \n",
              "3                     0                     0                     0   \n",
              "4                     0                     0                     0   \n",
              "\n",
              "   Product_ID_P00001042  ...  Product_Category_3_9.0  Product_Category_3_10.0  \\\n",
              "0                     0  ...                       0                        0   \n",
              "1                     0  ...                       0                        0   \n",
              "2                     0  ...                       0                        0   \n",
              "3                     0  ...                       0                        0   \n",
              "4                     0  ...                       0                        0   \n",
              "\n",
              "   Product_Category_3_11.0  Product_Category_3_12.0  Product_Category_3_13.0  \\\n",
              "0                        0                        0                        0   \n",
              "1                        0                        0                        0   \n",
              "2                        0                        0                        0   \n",
              "3                        0                        0                        0   \n",
              "4                        0                        1                        0   \n",
              "\n",
              "   Product_Category_3_14.0  Product_Category_3_15.0  Product_Category_3_16.0  \\\n",
              "0                        0                        0                        0   \n",
              "1                        0                        0                        0   \n",
              "2                        0                        0                        0   \n",
              "3                        0                        0                        0   \n",
              "4                        0                        0                        0   \n",
              "\n",
              "   Product_Category_3_17.0  Product_Category_3_18.0  \n",
              "0                        0                        0  \n",
              "1                        0                        0  \n",
              "2                        0                        0  \n",
              "3                        0                        0  \n",
              "4                        0                        0  \n",
              "\n",
              "[5 rows x 3583 columns]"
            ],
            "text/html": [
              "\n",
              "  <div id=\"df-e74c3cd2-9089-4857-a518-9bb991a80bee\">\n",
              "    <div class=\"colab-df-container\">\n",
              "      <div>\n",
              "<style scoped>\n",
              "    .dataframe tbody tr th:only-of-type {\n",
              "        vertical-align: middle;\n",
              "    }\n",
              "\n",
              "    .dataframe tbody tr th {\n",
              "        vertical-align: top;\n",
              "    }\n",
              "\n",
              "    .dataframe thead th {\n",
              "        text-align: right;\n",
              "    }\n",
              "</style>\n",
              "<table border=\"1\" class=\"dataframe\">\n",
              "  <thead>\n",
              "    <tr style=\"text-align: right;\">\n",
              "      <th></th>\n",
              "      <th>Product_ID_P00000142</th>\n",
              "      <th>Product_ID_P00000242</th>\n",
              "      <th>Product_ID_P00000342</th>\n",
              "      <th>Product_ID_P00000442</th>\n",
              "      <th>Product_ID_P00000542</th>\n",
              "      <th>Product_ID_P00000642</th>\n",
              "      <th>Product_ID_P00000742</th>\n",
              "      <th>Product_ID_P00000842</th>\n",
              "      <th>Product_ID_P00000942</th>\n",
              "      <th>Product_ID_P00001042</th>\n",
              "      <th>...</th>\n",
              "      <th>Product_Category_3_9.0</th>\n",
              "      <th>Product_Category_3_10.0</th>\n",
              "      <th>Product_Category_3_11.0</th>\n",
              "      <th>Product_Category_3_12.0</th>\n",
              "      <th>Product_Category_3_13.0</th>\n",
              "      <th>Product_Category_3_14.0</th>\n",
              "      <th>Product_Category_3_15.0</th>\n",
              "      <th>Product_Category_3_16.0</th>\n",
              "      <th>Product_Category_3_17.0</th>\n",
              "      <th>Product_Category_3_18.0</th>\n",
              "    </tr>\n",
              "  </thead>\n",
              "  <tbody>\n",
              "    <tr>\n",
              "      <th>0</th>\n",
              "      <td>0</td>\n",
              "      <td>0</td>\n",
              "      <td>0</td>\n",
              "      <td>0</td>\n",
              "      <td>0</td>\n",
              "      <td>0</td>\n",
              "      <td>0</td>\n",
              "      <td>0</td>\n",
              "      <td>0</td>\n",
              "      <td>0</td>\n",
              "      <td>...</td>\n",
              "      <td>0</td>\n",
              "      <td>0</td>\n",
              "      <td>0</td>\n",
              "      <td>0</td>\n",
              "      <td>0</td>\n",
              "      <td>0</td>\n",
              "      <td>0</td>\n",
              "      <td>0</td>\n",
              "      <td>0</td>\n",
              "      <td>0</td>\n",
              "    </tr>\n",
              "    <tr>\n",
              "      <th>1</th>\n",
              "      <td>0</td>\n",
              "      <td>0</td>\n",
              "      <td>0</td>\n",
              "      <td>0</td>\n",
              "      <td>0</td>\n",
              "      <td>0</td>\n",
              "      <td>0</td>\n",
              "      <td>0</td>\n",
              "      <td>0</td>\n",
              "      <td>0</td>\n",
              "      <td>...</td>\n",
              "      <td>0</td>\n",
              "      <td>0</td>\n",
              "      <td>0</td>\n",
              "      <td>0</td>\n",
              "      <td>0</td>\n",
              "      <td>0</td>\n",
              "      <td>0</td>\n",
              "      <td>0</td>\n",
              "      <td>0</td>\n",
              "      <td>0</td>\n",
              "    </tr>\n",
              "    <tr>\n",
              "      <th>2</th>\n",
              "      <td>0</td>\n",
              "      <td>0</td>\n",
              "      <td>0</td>\n",
              "      <td>0</td>\n",
              "      <td>0</td>\n",
              "      <td>0</td>\n",
              "      <td>0</td>\n",
              "      <td>0</td>\n",
              "      <td>0</td>\n",
              "      <td>0</td>\n",
              "      <td>...</td>\n",
              "      <td>0</td>\n",
              "      <td>0</td>\n",
              "      <td>0</td>\n",
              "      <td>0</td>\n",
              "      <td>0</td>\n",
              "      <td>0</td>\n",
              "      <td>0</td>\n",
              "      <td>0</td>\n",
              "      <td>0</td>\n",
              "      <td>0</td>\n",
              "    </tr>\n",
              "    <tr>\n",
              "      <th>3</th>\n",
              "      <td>0</td>\n",
              "      <td>0</td>\n",
              "      <td>0</td>\n",
              "      <td>0</td>\n",
              "      <td>0</td>\n",
              "      <td>0</td>\n",
              "      <td>0</td>\n",
              "      <td>0</td>\n",
              "      <td>0</td>\n",
              "      <td>0</td>\n",
              "      <td>...</td>\n",
              "      <td>0</td>\n",
              "      <td>0</td>\n",
              "      <td>0</td>\n",
              "      <td>0</td>\n",
              "      <td>0</td>\n",
              "      <td>0</td>\n",
              "      <td>0</td>\n",
              "      <td>0</td>\n",
              "      <td>0</td>\n",
              "      <td>0</td>\n",
              "    </tr>\n",
              "    <tr>\n",
              "      <th>4</th>\n",
              "      <td>0</td>\n",
              "      <td>0</td>\n",
              "      <td>0</td>\n",
              "      <td>0</td>\n",
              "      <td>0</td>\n",
              "      <td>0</td>\n",
              "      <td>0</td>\n",
              "      <td>0</td>\n",
              "      <td>0</td>\n",
              "      <td>0</td>\n",
              "      <td>...</td>\n",
              "      <td>0</td>\n",
              "      <td>0</td>\n",
              "      <td>0</td>\n",
              "      <td>1</td>\n",
              "      <td>0</td>\n",
              "      <td>0</td>\n",
              "      <td>0</td>\n",
              "      <td>0</td>\n",
              "      <td>0</td>\n",
              "      <td>0</td>\n",
              "    </tr>\n",
              "  </tbody>\n",
              "</table>\n",
              "<p>5 rows × 3583 columns</p>\n",
              "</div>\n",
              "      <button class=\"colab-df-convert\" onclick=\"convertToInteractive('df-e74c3cd2-9089-4857-a518-9bb991a80bee')\"\n",
              "              title=\"Convert this dataframe to an interactive table.\"\n",
              "              style=\"display:none;\">\n",
              "        \n",
              "  <svg xmlns=\"http://www.w3.org/2000/svg\" height=\"24px\"viewBox=\"0 0 24 24\"\n",
              "       width=\"24px\">\n",
              "    <path d=\"M0 0h24v24H0V0z\" fill=\"none\"/>\n",
              "    <path d=\"M18.56 5.44l.94 2.06.94-2.06 2.06-.94-2.06-.94-.94-2.06-.94 2.06-2.06.94zm-11 1L8.5 8.5l.94-2.06 2.06-.94-2.06-.94L8.5 2.5l-.94 2.06-2.06.94zm10 10l.94 2.06.94-2.06 2.06-.94-2.06-.94-.94-2.06-.94 2.06-2.06.94z\"/><path d=\"M17.41 7.96l-1.37-1.37c-.4-.4-.92-.59-1.43-.59-.52 0-1.04.2-1.43.59L10.3 9.45l-7.72 7.72c-.78.78-.78 2.05 0 2.83L4 21.41c.39.39.9.59 1.41.59.51 0 1.02-.2 1.41-.59l7.78-7.78 2.81-2.81c.8-.78.8-2.07 0-2.86zM5.41 20L4 18.59l7.72-7.72 1.47 1.35L5.41 20z\"/>\n",
              "  </svg>\n",
              "      </button>\n",
              "      \n",
              "  <style>\n",
              "    .colab-df-container {\n",
              "      display:flex;\n",
              "      flex-wrap:wrap;\n",
              "      gap: 12px;\n",
              "    }\n",
              "\n",
              "    .colab-df-convert {\n",
              "      background-color: #E8F0FE;\n",
              "      border: none;\n",
              "      border-radius: 50%;\n",
              "      cursor: pointer;\n",
              "      display: none;\n",
              "      fill: #1967D2;\n",
              "      height: 32px;\n",
              "      padding: 0 0 0 0;\n",
              "      width: 32px;\n",
              "    }\n",
              "\n",
              "    .colab-df-convert:hover {\n",
              "      background-color: #E2EBFA;\n",
              "      box-shadow: 0px 1px 2px rgba(60, 64, 67, 0.3), 0px 1px 3px 1px rgba(60, 64, 67, 0.15);\n",
              "      fill: #174EA6;\n",
              "    }\n",
              "\n",
              "    [theme=dark] .colab-df-convert {\n",
              "      background-color: #3B4455;\n",
              "      fill: #D2E3FC;\n",
              "    }\n",
              "\n",
              "    [theme=dark] .colab-df-convert:hover {\n",
              "      background-color: #434B5C;\n",
              "      box-shadow: 0px 1px 3px 1px rgba(0, 0, 0, 0.15);\n",
              "      filter: drop-shadow(0px 1px 2px rgba(0, 0, 0, 0.3));\n",
              "      fill: #FFFFFF;\n",
              "    }\n",
              "  </style>\n",
              "\n",
              "      <script>\n",
              "        const buttonEl =\n",
              "          document.querySelector('#df-e74c3cd2-9089-4857-a518-9bb991a80bee button.colab-df-convert');\n",
              "        buttonEl.style.display =\n",
              "          google.colab.kernel.accessAllowed ? 'block' : 'none';\n",
              "\n",
              "        async function convertToInteractive(key) {\n",
              "          const element = document.querySelector('#df-e74c3cd2-9089-4857-a518-9bb991a80bee');\n",
              "          const dataTable =\n",
              "            await google.colab.kernel.invokeFunction('convertToInteractive',\n",
              "                                                     [key], {});\n",
              "          if (!dataTable) return;\n",
              "\n",
              "          const docLinkHtml = 'Like what you see? Visit the ' +\n",
              "            '<a target=\"_blank\" href=https://colab.research.google.com/notebooks/data_table.ipynb>data table notebook</a>'\n",
              "            + ' to learn more about interactive tables.';\n",
              "          element.innerHTML = '';\n",
              "          dataTable['output_type'] = 'display_data';\n",
              "          await google.colab.output.renderOutput(dataTable, element);\n",
              "          const docLink = document.createElement('div');\n",
              "          docLink.innerHTML = docLinkHtml;\n",
              "          element.appendChild(docLink);\n",
              "        }\n",
              "      </script>\n",
              "    </div>\n",
              "  </div>\n",
              "  "
            ]
          },
          "metadata": {},
          "execution_count": 38
        }
      ]
    },
    {
      "cell_type": "markdown",
      "source": [
        "Colocamos los datos de la forma indicada para poder calcular las frecuencias de estos más adelante"
      ],
      "metadata": {
        "id": "1yTwMGy-Sf6I"
      }
    },
    {
      "cell_type": "markdown",
      "source": [
        "# 1) Itemsets frecuentes para k=1"
      ],
      "metadata": {
        "id": "JzW5LCNebLOx"
      }
    },
    {
      "cell_type": "markdown",
      "source": [
        "Para hallar esto necesitamos calcular el soporte y las frecuencias de estos itemsets"
      ],
      "metadata": {
        "id": "HMaRpY_mhweb"
      }
    },
    {
      "cell_type": "markdown",
      "source": [
        "IR VARIANDO EL MIN_SUPPORT HASTA QUE SALE UN NÚMERO DE REGLAS RAZONABLE"
      ],
      "metadata": {
        "id": "zmSCb6P4z0NR"
      }
    },
    {
      "cell_type": "code",
      "source": [
        "from mlxtend.frequent_patterns import apriori, association_rules\n",
        "\n",
        "frequent_itemsets = apriori(data4, min_support=0.2, use_colnames=True)\n",
        "frequent_itemsets_k1 =frequent_itemsets[frequent_itemsets['itemsets'].apply(lambda x: len(x) == 1)]\n",
        "frequent_itemsets_k1_sort = frequent_itemsets_k1.sort_values(by=['support'], ascending=False)\n",
        "\n",
        "frequent=frequent_itemsets_k1_sort.support*len(data4)\n",
        "frequent_itemsets_k1_sort['frecuencia'] =frequent\n",
        "frequent_itemsets_k1_sort"
      ],
      "metadata": {
        "colab": {
          "base_uri": "https://localhost:8080/",
          "height": 488
        },
        "id": "k3-bJvTBw4le",
        "outputId": "40c65dcf-48ab-42d7-ef29-6ceabb5c3047"
      },
      "execution_count": 58,
      "outputs": [
        {
          "output_type": "execute_result",
          "data": {
            "text/plain": [
              "     support                        itemsets  frecuencia\n",
              "1   0.752452                      (Gender_M)    175772.0\n",
              "13  0.695902        (Product_Category_3_0.0)    162562.0\n",
              "7   0.589930              (Marital_Status_0)    137807.0\n",
              "4   0.421945               (City_Category_B)     98566.0\n",
              "8   0.410070              (Marital_Status_1)     95792.0\n",
              "2   0.399950                     (Age_26-35)     93428.0\n",
              "6   0.353615  (Stay_In_Current_City_Years_1)     82604.0\n",
              "5   0.310399               (City_Category_C)     72509.0\n",
              "12  0.309693        (Product_Category_2_0.0)     72344.0\n",
              "10  0.278327          (Product_Category_1_5)     65017.0\n",
              "3   0.267655               (City_Category_A)     62524.0\n",
              "9   0.258225          (Product_Category_1_1)     60321.0\n",
              "0   0.247548                      (Gender_F)     57827.0\n",
              "11  0.207060          (Product_Category_1_8)     48369.0"
            ],
            "text/html": [
              "\n",
              "  <div id=\"df-103cf0e1-c763-448a-b266-6304774bcd7b\">\n",
              "    <div class=\"colab-df-container\">\n",
              "      <div>\n",
              "<style scoped>\n",
              "    .dataframe tbody tr th:only-of-type {\n",
              "        vertical-align: middle;\n",
              "    }\n",
              "\n",
              "    .dataframe tbody tr th {\n",
              "        vertical-align: top;\n",
              "    }\n",
              "\n",
              "    .dataframe thead th {\n",
              "        text-align: right;\n",
              "    }\n",
              "</style>\n",
              "<table border=\"1\" class=\"dataframe\">\n",
              "  <thead>\n",
              "    <tr style=\"text-align: right;\">\n",
              "      <th></th>\n",
              "      <th>support</th>\n",
              "      <th>itemsets</th>\n",
              "      <th>frecuencia</th>\n",
              "    </tr>\n",
              "  </thead>\n",
              "  <tbody>\n",
              "    <tr>\n",
              "      <th>1</th>\n",
              "      <td>0.752452</td>\n",
              "      <td>(Gender_M)</td>\n",
              "      <td>175772.0</td>\n",
              "    </tr>\n",
              "    <tr>\n",
              "      <th>13</th>\n",
              "      <td>0.695902</td>\n",
              "      <td>(Product_Category_3_0.0)</td>\n",
              "      <td>162562.0</td>\n",
              "    </tr>\n",
              "    <tr>\n",
              "      <th>7</th>\n",
              "      <td>0.589930</td>\n",
              "      <td>(Marital_Status_0)</td>\n",
              "      <td>137807.0</td>\n",
              "    </tr>\n",
              "    <tr>\n",
              "      <th>4</th>\n",
              "      <td>0.421945</td>\n",
              "      <td>(City_Category_B)</td>\n",
              "      <td>98566.0</td>\n",
              "    </tr>\n",
              "    <tr>\n",
              "      <th>8</th>\n",
              "      <td>0.410070</td>\n",
              "      <td>(Marital_Status_1)</td>\n",
              "      <td>95792.0</td>\n",
              "    </tr>\n",
              "    <tr>\n",
              "      <th>2</th>\n",
              "      <td>0.399950</td>\n",
              "      <td>(Age_26-35)</td>\n",
              "      <td>93428.0</td>\n",
              "    </tr>\n",
              "    <tr>\n",
              "      <th>6</th>\n",
              "      <td>0.353615</td>\n",
              "      <td>(Stay_In_Current_City_Years_1)</td>\n",
              "      <td>82604.0</td>\n",
              "    </tr>\n",
              "    <tr>\n",
              "      <th>5</th>\n",
              "      <td>0.310399</td>\n",
              "      <td>(City_Category_C)</td>\n",
              "      <td>72509.0</td>\n",
              "    </tr>\n",
              "    <tr>\n",
              "      <th>12</th>\n",
              "      <td>0.309693</td>\n",
              "      <td>(Product_Category_2_0.0)</td>\n",
              "      <td>72344.0</td>\n",
              "    </tr>\n",
              "    <tr>\n",
              "      <th>10</th>\n",
              "      <td>0.278327</td>\n",
              "      <td>(Product_Category_1_5)</td>\n",
              "      <td>65017.0</td>\n",
              "    </tr>\n",
              "    <tr>\n",
              "      <th>3</th>\n",
              "      <td>0.267655</td>\n",
              "      <td>(City_Category_A)</td>\n",
              "      <td>62524.0</td>\n",
              "    </tr>\n",
              "    <tr>\n",
              "      <th>9</th>\n",
              "      <td>0.258225</td>\n",
              "      <td>(Product_Category_1_1)</td>\n",
              "      <td>60321.0</td>\n",
              "    </tr>\n",
              "    <tr>\n",
              "      <th>0</th>\n",
              "      <td>0.247548</td>\n",
              "      <td>(Gender_F)</td>\n",
              "      <td>57827.0</td>\n",
              "    </tr>\n",
              "    <tr>\n",
              "      <th>11</th>\n",
              "      <td>0.207060</td>\n",
              "      <td>(Product_Category_1_8)</td>\n",
              "      <td>48369.0</td>\n",
              "    </tr>\n",
              "  </tbody>\n",
              "</table>\n",
              "</div>\n",
              "      <button class=\"colab-df-convert\" onclick=\"convertToInteractive('df-103cf0e1-c763-448a-b266-6304774bcd7b')\"\n",
              "              title=\"Convert this dataframe to an interactive table.\"\n",
              "              style=\"display:none;\">\n",
              "        \n",
              "  <svg xmlns=\"http://www.w3.org/2000/svg\" height=\"24px\"viewBox=\"0 0 24 24\"\n",
              "       width=\"24px\">\n",
              "    <path d=\"M0 0h24v24H0V0z\" fill=\"none\"/>\n",
              "    <path d=\"M18.56 5.44l.94 2.06.94-2.06 2.06-.94-2.06-.94-.94-2.06-.94 2.06-2.06.94zm-11 1L8.5 8.5l.94-2.06 2.06-.94-2.06-.94L8.5 2.5l-.94 2.06-2.06.94zm10 10l.94 2.06.94-2.06 2.06-.94-2.06-.94-.94-2.06-.94 2.06-2.06.94z\"/><path d=\"M17.41 7.96l-1.37-1.37c-.4-.4-.92-.59-1.43-.59-.52 0-1.04.2-1.43.59L10.3 9.45l-7.72 7.72c-.78.78-.78 2.05 0 2.83L4 21.41c.39.39.9.59 1.41.59.51 0 1.02-.2 1.41-.59l7.78-7.78 2.81-2.81c.8-.78.8-2.07 0-2.86zM5.41 20L4 18.59l7.72-7.72 1.47 1.35L5.41 20z\"/>\n",
              "  </svg>\n",
              "      </button>\n",
              "      \n",
              "  <style>\n",
              "    .colab-df-container {\n",
              "      display:flex;\n",
              "      flex-wrap:wrap;\n",
              "      gap: 12px;\n",
              "    }\n",
              "\n",
              "    .colab-df-convert {\n",
              "      background-color: #E8F0FE;\n",
              "      border: none;\n",
              "      border-radius: 50%;\n",
              "      cursor: pointer;\n",
              "      display: none;\n",
              "      fill: #1967D2;\n",
              "      height: 32px;\n",
              "      padding: 0 0 0 0;\n",
              "      width: 32px;\n",
              "    }\n",
              "\n",
              "    .colab-df-convert:hover {\n",
              "      background-color: #E2EBFA;\n",
              "      box-shadow: 0px 1px 2px rgba(60, 64, 67, 0.3), 0px 1px 3px 1px rgba(60, 64, 67, 0.15);\n",
              "      fill: #174EA6;\n",
              "    }\n",
              "\n",
              "    [theme=dark] .colab-df-convert {\n",
              "      background-color: #3B4455;\n",
              "      fill: #D2E3FC;\n",
              "    }\n",
              "\n",
              "    [theme=dark] .colab-df-convert:hover {\n",
              "      background-color: #434B5C;\n",
              "      box-shadow: 0px 1px 3px 1px rgba(0, 0, 0, 0.15);\n",
              "      filter: drop-shadow(0px 1px 2px rgba(0, 0, 0, 0.3));\n",
              "      fill: #FFFFFF;\n",
              "    }\n",
              "  </style>\n",
              "\n",
              "      <script>\n",
              "        const buttonEl =\n",
              "          document.querySelector('#df-103cf0e1-c763-448a-b266-6304774bcd7b button.colab-df-convert');\n",
              "        buttonEl.style.display =\n",
              "          google.colab.kernel.accessAllowed ? 'block' : 'none';\n",
              "\n",
              "        async function convertToInteractive(key) {\n",
              "          const element = document.querySelector('#df-103cf0e1-c763-448a-b266-6304774bcd7b');\n",
              "          const dataTable =\n",
              "            await google.colab.kernel.invokeFunction('convertToInteractive',\n",
              "                                                     [key], {});\n",
              "          if (!dataTable) return;\n",
              "\n",
              "          const docLinkHtml = 'Like what you see? Visit the ' +\n",
              "            '<a target=\"_blank\" href=https://colab.research.google.com/notebooks/data_table.ipynb>data table notebook</a>'\n",
              "            + ' to learn more about interactive tables.';\n",
              "          element.innerHTML = '';\n",
              "          dataTable['output_type'] = 'display_data';\n",
              "          await google.colab.output.renderOutput(dataTable, element);\n",
              "          const docLink = document.createElement('div');\n",
              "          docLink.innerHTML = docLinkHtml;\n",
              "          element.appendChild(docLink);\n",
              "        }\n",
              "      </script>\n",
              "    </div>\n",
              "  </div>\n",
              "  "
            ]
          },
          "metadata": {},
          "execution_count": 58
        }
      ]
    },
    {
      "cell_type": "markdown",
      "source": [
        "COMPRUEBAMOS QUE LOS VALORES SON LOS CORRESTOS\n",
        "\n",
        "SupportMale=len(Gender)/Male\n",
        "\n"
      ],
      "metadata": {
        "id": "RqbAGAxiZiz5"
      }
    },
    {
      "cell_type": "code",
      "source": [
        "SupportMale=sum(data4.Gender_M==True)/len(data4.Gender_M+data4.Gender_F)\n",
        "print(SupportMale)"
      ],
      "metadata": {
        "colab": {
          "base_uri": "https://localhost:8080/"
        },
        "id": "day_BbcWZUYb",
        "outputId": "5c452e88-16ed-4bb9-a73c-79cfb2c8111f"
      },
      "execution_count": 42,
      "outputs": [
        {
          "output_type": "stream",
          "name": "stdout",
          "text": [
            "0.7524518512493632\n"
          ]
        }
      ]
    },
    {
      "cell_type": "markdown",
      "source": [
        "Vamos que es correcto"
      ],
      "metadata": {
        "id": "B4MO_sVuJ594"
      }
    },
    {
      "cell_type": "markdown",
      "source": [
        "# 2) Itemsets frecuentes para k≥2."
      ],
      "metadata": {
        "id": "yFmoHTL6atkl"
      }
    },
    {
      "cell_type": "markdown",
      "source": [
        "## a. Mostrar los itemset frecuentes candidatos y su soporte."
      ],
      "metadata": {
        "id": "v_FGqWznirUq"
      }
    },
    {
      "cell_type": "code",
      "source": [
        "frequent_itemsets_k2 =frequent_itemsets[frequent_itemsets['itemsets'].apply(lambda x: len(x) == 2)]\n",
        "frequent_itemsets_k2_sort = frequent_itemsets_k2.sort_values(by=['support'], ascending=False)\n",
        "\n",
        "#frequent=frequent_itemsets_k2_sort.support*len(data4)\n",
        "#frequent_itemsets_k2_sort['frecuenciak2'] =frequent\n",
        "frequent_itemsets_k2.head()\n",
        "#frequent_itemsets_k2_sort.head()"
      ],
      "metadata": {
        "colab": {
          "base_uri": "https://localhost:8080/",
          "height": 206
        },
        "id": "_aW5alB8zedh",
        "outputId": "5a120567-eeb3-400e-ece6-4086489e1442"
      },
      "execution_count": 59,
      "outputs": [
        {
          "output_type": "execute_result",
          "data": {
            "text/plain": [
              "     support                                  itemsets\n",
              "14  0.307150                     (Gender_M, Age_26-35)\n",
              "15  0.202090               (City_Category_A, Gender_M)\n",
              "16  0.316722               (City_Category_B, Gender_M)\n",
              "17  0.233640               (Gender_M, City_Category_C)\n",
              "18  0.259642  (Gender_M, Stay_In_Current_City_Years_1)"
            ],
            "text/html": [
              "\n",
              "  <div id=\"df-59fd555d-b623-4e16-85c6-486590b9fc7b\">\n",
              "    <div class=\"colab-df-container\">\n",
              "      <div>\n",
              "<style scoped>\n",
              "    .dataframe tbody tr th:only-of-type {\n",
              "        vertical-align: middle;\n",
              "    }\n",
              "\n",
              "    .dataframe tbody tr th {\n",
              "        vertical-align: top;\n",
              "    }\n",
              "\n",
              "    .dataframe thead th {\n",
              "        text-align: right;\n",
              "    }\n",
              "</style>\n",
              "<table border=\"1\" class=\"dataframe\">\n",
              "  <thead>\n",
              "    <tr style=\"text-align: right;\">\n",
              "      <th></th>\n",
              "      <th>support</th>\n",
              "      <th>itemsets</th>\n",
              "    </tr>\n",
              "  </thead>\n",
              "  <tbody>\n",
              "    <tr>\n",
              "      <th>14</th>\n",
              "      <td>0.307150</td>\n",
              "      <td>(Gender_M, Age_26-35)</td>\n",
              "    </tr>\n",
              "    <tr>\n",
              "      <th>15</th>\n",
              "      <td>0.202090</td>\n",
              "      <td>(City_Category_A, Gender_M)</td>\n",
              "    </tr>\n",
              "    <tr>\n",
              "      <th>16</th>\n",
              "      <td>0.316722</td>\n",
              "      <td>(City_Category_B, Gender_M)</td>\n",
              "    </tr>\n",
              "    <tr>\n",
              "      <th>17</th>\n",
              "      <td>0.233640</td>\n",
              "      <td>(Gender_M, City_Category_C)</td>\n",
              "    </tr>\n",
              "    <tr>\n",
              "      <th>18</th>\n",
              "      <td>0.259642</td>\n",
              "      <td>(Gender_M, Stay_In_Current_City_Years_1)</td>\n",
              "    </tr>\n",
              "  </tbody>\n",
              "</table>\n",
              "</div>\n",
              "      <button class=\"colab-df-convert\" onclick=\"convertToInteractive('df-59fd555d-b623-4e16-85c6-486590b9fc7b')\"\n",
              "              title=\"Convert this dataframe to an interactive table.\"\n",
              "              style=\"display:none;\">\n",
              "        \n",
              "  <svg xmlns=\"http://www.w3.org/2000/svg\" height=\"24px\"viewBox=\"0 0 24 24\"\n",
              "       width=\"24px\">\n",
              "    <path d=\"M0 0h24v24H0V0z\" fill=\"none\"/>\n",
              "    <path d=\"M18.56 5.44l.94 2.06.94-2.06 2.06-.94-2.06-.94-.94-2.06-.94 2.06-2.06.94zm-11 1L8.5 8.5l.94-2.06 2.06-.94-2.06-.94L8.5 2.5l-.94 2.06-2.06.94zm10 10l.94 2.06.94-2.06 2.06-.94-2.06-.94-.94-2.06-.94 2.06-2.06.94z\"/><path d=\"M17.41 7.96l-1.37-1.37c-.4-.4-.92-.59-1.43-.59-.52 0-1.04.2-1.43.59L10.3 9.45l-7.72 7.72c-.78.78-.78 2.05 0 2.83L4 21.41c.39.39.9.59 1.41.59.51 0 1.02-.2 1.41-.59l7.78-7.78 2.81-2.81c.8-.78.8-2.07 0-2.86zM5.41 20L4 18.59l7.72-7.72 1.47 1.35L5.41 20z\"/>\n",
              "  </svg>\n",
              "      </button>\n",
              "      \n",
              "  <style>\n",
              "    .colab-df-container {\n",
              "      display:flex;\n",
              "      flex-wrap:wrap;\n",
              "      gap: 12px;\n",
              "    }\n",
              "\n",
              "    .colab-df-convert {\n",
              "      background-color: #E8F0FE;\n",
              "      border: none;\n",
              "      border-radius: 50%;\n",
              "      cursor: pointer;\n",
              "      display: none;\n",
              "      fill: #1967D2;\n",
              "      height: 32px;\n",
              "      padding: 0 0 0 0;\n",
              "      width: 32px;\n",
              "    }\n",
              "\n",
              "    .colab-df-convert:hover {\n",
              "      background-color: #E2EBFA;\n",
              "      box-shadow: 0px 1px 2px rgba(60, 64, 67, 0.3), 0px 1px 3px 1px rgba(60, 64, 67, 0.15);\n",
              "      fill: #174EA6;\n",
              "    }\n",
              "\n",
              "    [theme=dark] .colab-df-convert {\n",
              "      background-color: #3B4455;\n",
              "      fill: #D2E3FC;\n",
              "    }\n",
              "\n",
              "    [theme=dark] .colab-df-convert:hover {\n",
              "      background-color: #434B5C;\n",
              "      box-shadow: 0px 1px 3px 1px rgba(0, 0, 0, 0.15);\n",
              "      filter: drop-shadow(0px 1px 2px rgba(0, 0, 0, 0.3));\n",
              "      fill: #FFFFFF;\n",
              "    }\n",
              "  </style>\n",
              "\n",
              "      <script>\n",
              "        const buttonEl =\n",
              "          document.querySelector('#df-59fd555d-b623-4e16-85c6-486590b9fc7b button.colab-df-convert');\n",
              "        buttonEl.style.display =\n",
              "          google.colab.kernel.accessAllowed ? 'block' : 'none';\n",
              "\n",
              "        async function convertToInteractive(key) {\n",
              "          const element = document.querySelector('#df-59fd555d-b623-4e16-85c6-486590b9fc7b');\n",
              "          const dataTable =\n",
              "            await google.colab.kernel.invokeFunction('convertToInteractive',\n",
              "                                                     [key], {});\n",
              "          if (!dataTable) return;\n",
              "\n",
              "          const docLinkHtml = 'Like what you see? Visit the ' +\n",
              "            '<a target=\"_blank\" href=https://colab.research.google.com/notebooks/data_table.ipynb>data table notebook</a>'\n",
              "            + ' to learn more about interactive tables.';\n",
              "          element.innerHTML = '';\n",
              "          dataTable['output_type'] = 'display_data';\n",
              "          await google.colab.output.renderOutput(dataTable, element);\n",
              "          const docLink = document.createElement('div');\n",
              "          docLink.innerHTML = docLinkHtml;\n",
              "          element.appendChild(docLink);\n",
              "        }\n",
              "      </script>\n",
              "    </div>\n",
              "  </div>\n",
              "  "
            ]
          },
          "metadata": {},
          "execution_count": 59
        }
      ]
    },
    {
      "cell_type": "markdown",
      "source": [
        "# 3) Repetir el proceso 2 hasta que no se generen nuevos itemsets frecuentes."
      ],
      "metadata": {
        "id": "4MrgtzBYai2K"
      }
    },
    {
      "cell_type": "code",
      "source": [
        "frequent_itemsets_k3 = frequent_itemsets[frequent_itemsets['itemsets'].apply(lambda x: len(x) == 3)]\n",
        "frequent_itemsets_k3_sort = frequent_itemsets_k3.sort_values(by=['support'], ascending=False)\n",
        "\n",
        "frequent=frequent_itemsets_k3_sort.support*len(data4)\n",
        "frequent_itemsets_k3_sort['frecuenciak3'] =frequent\n",
        "\n",
        "frequent_itemsets_k3_sort.head()"
      ],
      "metadata": {
        "colab": {
          "base_uri": "https://localhost:8080/",
          "height": 206
        },
        "id": "eTgXS013eVFq",
        "outputId": "c264db32-56df-4330-d83f-d9ad40ab0bcf"
      },
      "execution_count": 57,
      "outputs": [
        {
          "output_type": "execute_result",
          "data": {
            "text/plain": [
              "     support                                           itemsets  frecuenciak3\n",
              "38  0.304248  (Gender_M, Product_Category_3_0.0, Marital_Sta...       71072.0\n",
              "40  0.230343  (Gender_M, Product_Category_2_0.0, Product_Cat...       53808.0\n",
              "37  0.219389  (City_Category_B, Product_Category_3_0.0, Gend...       51249.0\n",
              "39  0.212715  (Gender_M, Product_Category_3_0.0, Marital_Sta...       49690.0\n",
              "36  0.210527      (Gender_M, Product_Category_3_0.0, Age_26-35)       49179.0"
            ],
            "text/html": [
              "\n",
              "  <div id=\"df-aefc62ca-49e5-492a-b726-8f7c8ea7edd8\">\n",
              "    <div class=\"colab-df-container\">\n",
              "      <div>\n",
              "<style scoped>\n",
              "    .dataframe tbody tr th:only-of-type {\n",
              "        vertical-align: middle;\n",
              "    }\n",
              "\n",
              "    .dataframe tbody tr th {\n",
              "        vertical-align: top;\n",
              "    }\n",
              "\n",
              "    .dataframe thead th {\n",
              "        text-align: right;\n",
              "    }\n",
              "</style>\n",
              "<table border=\"1\" class=\"dataframe\">\n",
              "  <thead>\n",
              "    <tr style=\"text-align: right;\">\n",
              "      <th></th>\n",
              "      <th>support</th>\n",
              "      <th>itemsets</th>\n",
              "      <th>frecuenciak3</th>\n",
              "    </tr>\n",
              "  </thead>\n",
              "  <tbody>\n",
              "    <tr>\n",
              "      <th>38</th>\n",
              "      <td>0.304248</td>\n",
              "      <td>(Gender_M, Product_Category_3_0.0, Marital_Sta...</td>\n",
              "      <td>71072.0</td>\n",
              "    </tr>\n",
              "    <tr>\n",
              "      <th>40</th>\n",
              "      <td>0.230343</td>\n",
              "      <td>(Gender_M, Product_Category_2_0.0, Product_Cat...</td>\n",
              "      <td>53808.0</td>\n",
              "    </tr>\n",
              "    <tr>\n",
              "      <th>37</th>\n",
              "      <td>0.219389</td>\n",
              "      <td>(City_Category_B, Product_Category_3_0.0, Gend...</td>\n",
              "      <td>51249.0</td>\n",
              "    </tr>\n",
              "    <tr>\n",
              "      <th>39</th>\n",
              "      <td>0.212715</td>\n",
              "      <td>(Gender_M, Product_Category_3_0.0, Marital_Sta...</td>\n",
              "      <td>49690.0</td>\n",
              "    </tr>\n",
              "    <tr>\n",
              "      <th>36</th>\n",
              "      <td>0.210527</td>\n",
              "      <td>(Gender_M, Product_Category_3_0.0, Age_26-35)</td>\n",
              "      <td>49179.0</td>\n",
              "    </tr>\n",
              "  </tbody>\n",
              "</table>\n",
              "</div>\n",
              "      <button class=\"colab-df-convert\" onclick=\"convertToInteractive('df-aefc62ca-49e5-492a-b726-8f7c8ea7edd8')\"\n",
              "              title=\"Convert this dataframe to an interactive table.\"\n",
              "              style=\"display:none;\">\n",
              "        \n",
              "  <svg xmlns=\"http://www.w3.org/2000/svg\" height=\"24px\"viewBox=\"0 0 24 24\"\n",
              "       width=\"24px\">\n",
              "    <path d=\"M0 0h24v24H0V0z\" fill=\"none\"/>\n",
              "    <path d=\"M18.56 5.44l.94 2.06.94-2.06 2.06-.94-2.06-.94-.94-2.06-.94 2.06-2.06.94zm-11 1L8.5 8.5l.94-2.06 2.06-.94-2.06-.94L8.5 2.5l-.94 2.06-2.06.94zm10 10l.94 2.06.94-2.06 2.06-.94-2.06-.94-.94-2.06-.94 2.06-2.06.94z\"/><path d=\"M17.41 7.96l-1.37-1.37c-.4-.4-.92-.59-1.43-.59-.52 0-1.04.2-1.43.59L10.3 9.45l-7.72 7.72c-.78.78-.78 2.05 0 2.83L4 21.41c.39.39.9.59 1.41.59.51 0 1.02-.2 1.41-.59l7.78-7.78 2.81-2.81c.8-.78.8-2.07 0-2.86zM5.41 20L4 18.59l7.72-7.72 1.47 1.35L5.41 20z\"/>\n",
              "  </svg>\n",
              "      </button>\n",
              "      \n",
              "  <style>\n",
              "    .colab-df-container {\n",
              "      display:flex;\n",
              "      flex-wrap:wrap;\n",
              "      gap: 12px;\n",
              "    }\n",
              "\n",
              "    .colab-df-convert {\n",
              "      background-color: #E8F0FE;\n",
              "      border: none;\n",
              "      border-radius: 50%;\n",
              "      cursor: pointer;\n",
              "      display: none;\n",
              "      fill: #1967D2;\n",
              "      height: 32px;\n",
              "      padding: 0 0 0 0;\n",
              "      width: 32px;\n",
              "    }\n",
              "\n",
              "    .colab-df-convert:hover {\n",
              "      background-color: #E2EBFA;\n",
              "      box-shadow: 0px 1px 2px rgba(60, 64, 67, 0.3), 0px 1px 3px 1px rgba(60, 64, 67, 0.15);\n",
              "      fill: #174EA6;\n",
              "    }\n",
              "\n",
              "    [theme=dark] .colab-df-convert {\n",
              "      background-color: #3B4455;\n",
              "      fill: #D2E3FC;\n",
              "    }\n",
              "\n",
              "    [theme=dark] .colab-df-convert:hover {\n",
              "      background-color: #434B5C;\n",
              "      box-shadow: 0px 1px 3px 1px rgba(0, 0, 0, 0.15);\n",
              "      filter: drop-shadow(0px 1px 2px rgba(0, 0, 0, 0.3));\n",
              "      fill: #FFFFFF;\n",
              "    }\n",
              "  </style>\n",
              "\n",
              "      <script>\n",
              "        const buttonEl =\n",
              "          document.querySelector('#df-aefc62ca-49e5-492a-b726-8f7c8ea7edd8 button.colab-df-convert');\n",
              "        buttonEl.style.display =\n",
              "          google.colab.kernel.accessAllowed ? 'block' : 'none';\n",
              "\n",
              "        async function convertToInteractive(key) {\n",
              "          const element = document.querySelector('#df-aefc62ca-49e5-492a-b726-8f7c8ea7edd8');\n",
              "          const dataTable =\n",
              "            await google.colab.kernel.invokeFunction('convertToInteractive',\n",
              "                                                     [key], {});\n",
              "          if (!dataTable) return;\n",
              "\n",
              "          const docLinkHtml = 'Like what you see? Visit the ' +\n",
              "            '<a target=\"_blank\" href=https://colab.research.google.com/notebooks/data_table.ipynb>data table notebook</a>'\n",
              "            + ' to learn more about interactive tables.';\n",
              "          element.innerHTML = '';\n",
              "          dataTable['output_type'] = 'display_data';\n",
              "          await google.colab.output.renderOutput(dataTable, element);\n",
              "          const docLink = document.createElement('div');\n",
              "          docLink.innerHTML = docLinkHtml;\n",
              "          element.appendChild(docLink);\n",
              "        }\n",
              "      </script>\n",
              "    </div>\n",
              "  </div>\n",
              "  "
            ]
          },
          "metadata": {},
          "execution_count": 57
        }
      ]
    },
    {
      "cell_type": "code",
      "source": [
        "frequent_itemsets_k4 = frequent_itemsets[frequent_itemsets['itemsets'].apply(lambda x: len(x) == 4)]\n",
        "frequent_itemsets_k4_sort = frequent_itemsets_k4.sort_values(by=['support'], ascending=False)\n",
        "\n",
        "frequent=frequent_itemsets_k4_sort.support*len(data4)\n",
        "frequent_itemsets_k4_sort['frecuenciak3'] =frequent\n",
        "\n",
        "frequent_itemsets_k4_sort.head()"
      ],
      "metadata": {
        "id": "wKwgjR0HXNCX",
        "colab": {
          "base_uri": "https://localhost:8080/",
          "height": 49
        },
        "outputId": "9962f40a-1ac9-4ae4-a590-55198f94a14a"
      },
      "execution_count": 50,
      "outputs": [
        {
          "output_type": "execute_result",
          "data": {
            "text/plain": [
              "Empty DataFrame\n",
              "Columns: [support, itemsets, frecuenciak3]\n",
              "Index: []"
            ],
            "text/html": [
              "\n",
              "  <div id=\"df-3e9fbc0b-1d03-4649-a037-ccac5e3008fa\">\n",
              "    <div class=\"colab-df-container\">\n",
              "      <div>\n",
              "<style scoped>\n",
              "    .dataframe tbody tr th:only-of-type {\n",
              "        vertical-align: middle;\n",
              "    }\n",
              "\n",
              "    .dataframe tbody tr th {\n",
              "        vertical-align: top;\n",
              "    }\n",
              "\n",
              "    .dataframe thead th {\n",
              "        text-align: right;\n",
              "    }\n",
              "</style>\n",
              "<table border=\"1\" class=\"dataframe\">\n",
              "  <thead>\n",
              "    <tr style=\"text-align: right;\">\n",
              "      <th></th>\n",
              "      <th>support</th>\n",
              "      <th>itemsets</th>\n",
              "      <th>frecuenciak3</th>\n",
              "    </tr>\n",
              "  </thead>\n",
              "  <tbody>\n",
              "  </tbody>\n",
              "</table>\n",
              "</div>\n",
              "      <button class=\"colab-df-convert\" onclick=\"convertToInteractive('df-3e9fbc0b-1d03-4649-a037-ccac5e3008fa')\"\n",
              "              title=\"Convert this dataframe to an interactive table.\"\n",
              "              style=\"display:none;\">\n",
              "        \n",
              "  <svg xmlns=\"http://www.w3.org/2000/svg\" height=\"24px\"viewBox=\"0 0 24 24\"\n",
              "       width=\"24px\">\n",
              "    <path d=\"M0 0h24v24H0V0z\" fill=\"none\"/>\n",
              "    <path d=\"M18.56 5.44l.94 2.06.94-2.06 2.06-.94-2.06-.94-.94-2.06-.94 2.06-2.06.94zm-11 1L8.5 8.5l.94-2.06 2.06-.94-2.06-.94L8.5 2.5l-.94 2.06-2.06.94zm10 10l.94 2.06.94-2.06 2.06-.94-2.06-.94-.94-2.06-.94 2.06-2.06.94z\"/><path d=\"M17.41 7.96l-1.37-1.37c-.4-.4-.92-.59-1.43-.59-.52 0-1.04.2-1.43.59L10.3 9.45l-7.72 7.72c-.78.78-.78 2.05 0 2.83L4 21.41c.39.39.9.59 1.41.59.51 0 1.02-.2 1.41-.59l7.78-7.78 2.81-2.81c.8-.78.8-2.07 0-2.86zM5.41 20L4 18.59l7.72-7.72 1.47 1.35L5.41 20z\"/>\n",
              "  </svg>\n",
              "      </button>\n",
              "      \n",
              "  <style>\n",
              "    .colab-df-container {\n",
              "      display:flex;\n",
              "      flex-wrap:wrap;\n",
              "      gap: 12px;\n",
              "    }\n",
              "\n",
              "    .colab-df-convert {\n",
              "      background-color: #E8F0FE;\n",
              "      border: none;\n",
              "      border-radius: 50%;\n",
              "      cursor: pointer;\n",
              "      display: none;\n",
              "      fill: #1967D2;\n",
              "      height: 32px;\n",
              "      padding: 0 0 0 0;\n",
              "      width: 32px;\n",
              "    }\n",
              "\n",
              "    .colab-df-convert:hover {\n",
              "      background-color: #E2EBFA;\n",
              "      box-shadow: 0px 1px 2px rgba(60, 64, 67, 0.3), 0px 1px 3px 1px rgba(60, 64, 67, 0.15);\n",
              "      fill: #174EA6;\n",
              "    }\n",
              "\n",
              "    [theme=dark] .colab-df-convert {\n",
              "      background-color: #3B4455;\n",
              "      fill: #D2E3FC;\n",
              "    }\n",
              "\n",
              "    [theme=dark] .colab-df-convert:hover {\n",
              "      background-color: #434B5C;\n",
              "      box-shadow: 0px 1px 3px 1px rgba(0, 0, 0, 0.15);\n",
              "      filter: drop-shadow(0px 1px 2px rgba(0, 0, 0, 0.3));\n",
              "      fill: #FFFFFF;\n",
              "    }\n",
              "  </style>\n",
              "\n",
              "      <script>\n",
              "        const buttonEl =\n",
              "          document.querySelector('#df-3e9fbc0b-1d03-4649-a037-ccac5e3008fa button.colab-df-convert');\n",
              "        buttonEl.style.display =\n",
              "          google.colab.kernel.accessAllowed ? 'block' : 'none';\n",
              "\n",
              "        async function convertToInteractive(key) {\n",
              "          const element = document.querySelector('#df-3e9fbc0b-1d03-4649-a037-ccac5e3008fa');\n",
              "          const dataTable =\n",
              "            await google.colab.kernel.invokeFunction('convertToInteractive',\n",
              "                                                     [key], {});\n",
              "          if (!dataTable) return;\n",
              "\n",
              "          const docLinkHtml = 'Like what you see? Visit the ' +\n",
              "            '<a target=\"_blank\" href=https://colab.research.google.com/notebooks/data_table.ipynb>data table notebook</a>'\n",
              "            + ' to learn more about interactive tables.';\n",
              "          element.innerHTML = '';\n",
              "          dataTable['output_type'] = 'display_data';\n",
              "          await google.colab.output.renderOutput(dataTable, element);\n",
              "          const docLink = document.createElement('div');\n",
              "          docLink.innerHTML = docLinkHtml;\n",
              "          element.appendChild(docLink);\n",
              "        }\n",
              "      </script>\n",
              "    </div>\n",
              "  </div>\n",
              "  "
            ]
          },
          "metadata": {},
          "execution_count": 50
        }
      ]
    },
    {
      "cell_type": "code",
      "source": [
        "frequent_itemsets_k5 = frequent_itemsets[frequent_itemsets['itemsets'].apply(lambda x: len(x) == 5)]\n",
        "frequent_itemsets_k5_sort = frequent_itemsets_k5.sort_values(by=['support'], ascending=False)\n",
        "\n",
        "frequent=frequent_itemsets_k5_sort.support*len(data4)\n",
        "frequent_itemsets_k5_sort['frecuenciak3'] =frequent\n",
        "\n",
        "frequent_itemsets_k5_sort.head()"
      ],
      "metadata": {
        "colab": {
          "base_uri": "https://localhost:8080/",
          "height": 49
        },
        "id": "vlzUA0ATKDhl",
        "outputId": "c0827b39-e014-419a-9917-87d85ab365d7"
      },
      "execution_count": 52,
      "outputs": [
        {
          "output_type": "execute_result",
          "data": {
            "text/plain": [
              "Empty DataFrame\n",
              "Columns: [support, itemsets, frecuenciak3]\n",
              "Index: []"
            ],
            "text/html": [
              "\n",
              "  <div id=\"df-dfd6e0af-4bfe-4af4-8ee0-181d859996d7\">\n",
              "    <div class=\"colab-df-container\">\n",
              "      <div>\n",
              "<style scoped>\n",
              "    .dataframe tbody tr th:only-of-type {\n",
              "        vertical-align: middle;\n",
              "    }\n",
              "\n",
              "    .dataframe tbody tr th {\n",
              "        vertical-align: top;\n",
              "    }\n",
              "\n",
              "    .dataframe thead th {\n",
              "        text-align: right;\n",
              "    }\n",
              "</style>\n",
              "<table border=\"1\" class=\"dataframe\">\n",
              "  <thead>\n",
              "    <tr style=\"text-align: right;\">\n",
              "      <th></th>\n",
              "      <th>support</th>\n",
              "      <th>itemsets</th>\n",
              "      <th>frecuenciak3</th>\n",
              "    </tr>\n",
              "  </thead>\n",
              "  <tbody>\n",
              "  </tbody>\n",
              "</table>\n",
              "</div>\n",
              "      <button class=\"colab-df-convert\" onclick=\"convertToInteractive('df-dfd6e0af-4bfe-4af4-8ee0-181d859996d7')\"\n",
              "              title=\"Convert this dataframe to an interactive table.\"\n",
              "              style=\"display:none;\">\n",
              "        \n",
              "  <svg xmlns=\"http://www.w3.org/2000/svg\" height=\"24px\"viewBox=\"0 0 24 24\"\n",
              "       width=\"24px\">\n",
              "    <path d=\"M0 0h24v24H0V0z\" fill=\"none\"/>\n",
              "    <path d=\"M18.56 5.44l.94 2.06.94-2.06 2.06-.94-2.06-.94-.94-2.06-.94 2.06-2.06.94zm-11 1L8.5 8.5l.94-2.06 2.06-.94-2.06-.94L8.5 2.5l-.94 2.06-2.06.94zm10 10l.94 2.06.94-2.06 2.06-.94-2.06-.94-.94-2.06-.94 2.06-2.06.94z\"/><path d=\"M17.41 7.96l-1.37-1.37c-.4-.4-.92-.59-1.43-.59-.52 0-1.04.2-1.43.59L10.3 9.45l-7.72 7.72c-.78.78-.78 2.05 0 2.83L4 21.41c.39.39.9.59 1.41.59.51 0 1.02-.2 1.41-.59l7.78-7.78 2.81-2.81c.8-.78.8-2.07 0-2.86zM5.41 20L4 18.59l7.72-7.72 1.47 1.35L5.41 20z\"/>\n",
              "  </svg>\n",
              "      </button>\n",
              "      \n",
              "  <style>\n",
              "    .colab-df-container {\n",
              "      display:flex;\n",
              "      flex-wrap:wrap;\n",
              "      gap: 12px;\n",
              "    }\n",
              "\n",
              "    .colab-df-convert {\n",
              "      background-color: #E8F0FE;\n",
              "      border: none;\n",
              "      border-radius: 50%;\n",
              "      cursor: pointer;\n",
              "      display: none;\n",
              "      fill: #1967D2;\n",
              "      height: 32px;\n",
              "      padding: 0 0 0 0;\n",
              "      width: 32px;\n",
              "    }\n",
              "\n",
              "    .colab-df-convert:hover {\n",
              "      background-color: #E2EBFA;\n",
              "      box-shadow: 0px 1px 2px rgba(60, 64, 67, 0.3), 0px 1px 3px 1px rgba(60, 64, 67, 0.15);\n",
              "      fill: #174EA6;\n",
              "    }\n",
              "\n",
              "    [theme=dark] .colab-df-convert {\n",
              "      background-color: #3B4455;\n",
              "      fill: #D2E3FC;\n",
              "    }\n",
              "\n",
              "    [theme=dark] .colab-df-convert:hover {\n",
              "      background-color: #434B5C;\n",
              "      box-shadow: 0px 1px 3px 1px rgba(0, 0, 0, 0.15);\n",
              "      filter: drop-shadow(0px 1px 2px rgba(0, 0, 0, 0.3));\n",
              "      fill: #FFFFFF;\n",
              "    }\n",
              "  </style>\n",
              "\n",
              "      <script>\n",
              "        const buttonEl =\n",
              "          document.querySelector('#df-dfd6e0af-4bfe-4af4-8ee0-181d859996d7 button.colab-df-convert');\n",
              "        buttonEl.style.display =\n",
              "          google.colab.kernel.accessAllowed ? 'block' : 'none';\n",
              "\n",
              "        async function convertToInteractive(key) {\n",
              "          const element = document.querySelector('#df-dfd6e0af-4bfe-4af4-8ee0-181d859996d7');\n",
              "          const dataTable =\n",
              "            await google.colab.kernel.invokeFunction('convertToInteractive',\n",
              "                                                     [key], {});\n",
              "          if (!dataTable) return;\n",
              "\n",
              "          const docLinkHtml = 'Like what you see? Visit the ' +\n",
              "            '<a target=\"_blank\" href=https://colab.research.google.com/notebooks/data_table.ipynb>data table notebook</a>'\n",
              "            + ' to learn more about interactive tables.';\n",
              "          element.innerHTML = '';\n",
              "          dataTable['output_type'] = 'display_data';\n",
              "          await google.colab.output.renderOutput(dataTable, element);\n",
              "          const docLink = document.createElement('div');\n",
              "          docLink.innerHTML = docLinkHtml;\n",
              "          element.appendChild(docLink);\n",
              "        }\n",
              "      </script>\n",
              "    </div>\n",
              "  </div>\n",
              "  "
            ]
          },
          "metadata": {},
          "execution_count": 52
        }
      ]
    },
    {
      "cell_type": "markdown",
      "source": [
        "Paramos "
      ],
      "metadata": {
        "id": "VYx37-eGu7vS"
      }
    },
    {
      "cell_type": "code",
      "source": [
        "frequent_itemsets_k6 = frequent_itemsets[frequent_itemsets['itemsets'].apply(lambda x: len(x) == 6)]\n",
        "frequent_itemsets_k6_sort = frequent_itemsets_k6.sort_values(by=['support'], ascending=False)\n",
        "\n",
        "frequent=frequent_itemsets_k6_sort.support*len(data4)\n",
        "frequent_itemsets_k6_sort['frecuenciak3'] =frequent\n",
        "\n",
        "frequent_itemsets_k6_sort.head()"
      ],
      "metadata": {
        "colab": {
          "base_uri": "https://localhost:8080/",
          "height": 49
        },
        "id": "wS9U8pnCMN1o",
        "outputId": "2834efa0-3214-4bf4-c651-377270cec2ff"
      },
      "execution_count": 53,
      "outputs": [
        {
          "output_type": "execute_result",
          "data": {
            "text/plain": [
              "Empty DataFrame\n",
              "Columns: [support, itemsets, frecuenciak3]\n",
              "Index: []"
            ],
            "text/html": [
              "\n",
              "  <div id=\"df-d8f942a3-5166-446c-b36c-222e580306ac\">\n",
              "    <div class=\"colab-df-container\">\n",
              "      <div>\n",
              "<style scoped>\n",
              "    .dataframe tbody tr th:only-of-type {\n",
              "        vertical-align: middle;\n",
              "    }\n",
              "\n",
              "    .dataframe tbody tr th {\n",
              "        vertical-align: top;\n",
              "    }\n",
              "\n",
              "    .dataframe thead th {\n",
              "        text-align: right;\n",
              "    }\n",
              "</style>\n",
              "<table border=\"1\" class=\"dataframe\">\n",
              "  <thead>\n",
              "    <tr style=\"text-align: right;\">\n",
              "      <th></th>\n",
              "      <th>support</th>\n",
              "      <th>itemsets</th>\n",
              "      <th>frecuenciak3</th>\n",
              "    </tr>\n",
              "  </thead>\n",
              "  <tbody>\n",
              "  </tbody>\n",
              "</table>\n",
              "</div>\n",
              "      <button class=\"colab-df-convert\" onclick=\"convertToInteractive('df-d8f942a3-5166-446c-b36c-222e580306ac')\"\n",
              "              title=\"Convert this dataframe to an interactive table.\"\n",
              "              style=\"display:none;\">\n",
              "        \n",
              "  <svg xmlns=\"http://www.w3.org/2000/svg\" height=\"24px\"viewBox=\"0 0 24 24\"\n",
              "       width=\"24px\">\n",
              "    <path d=\"M0 0h24v24H0V0z\" fill=\"none\"/>\n",
              "    <path d=\"M18.56 5.44l.94 2.06.94-2.06 2.06-.94-2.06-.94-.94-2.06-.94 2.06-2.06.94zm-11 1L8.5 8.5l.94-2.06 2.06-.94-2.06-.94L8.5 2.5l-.94 2.06-2.06.94zm10 10l.94 2.06.94-2.06 2.06-.94-2.06-.94-.94-2.06-.94 2.06-2.06.94z\"/><path d=\"M17.41 7.96l-1.37-1.37c-.4-.4-.92-.59-1.43-.59-.52 0-1.04.2-1.43.59L10.3 9.45l-7.72 7.72c-.78.78-.78 2.05 0 2.83L4 21.41c.39.39.9.59 1.41.59.51 0 1.02-.2 1.41-.59l7.78-7.78 2.81-2.81c.8-.78.8-2.07 0-2.86zM5.41 20L4 18.59l7.72-7.72 1.47 1.35L5.41 20z\"/>\n",
              "  </svg>\n",
              "      </button>\n",
              "      \n",
              "  <style>\n",
              "    .colab-df-container {\n",
              "      display:flex;\n",
              "      flex-wrap:wrap;\n",
              "      gap: 12px;\n",
              "    }\n",
              "\n",
              "    .colab-df-convert {\n",
              "      background-color: #E8F0FE;\n",
              "      border: none;\n",
              "      border-radius: 50%;\n",
              "      cursor: pointer;\n",
              "      display: none;\n",
              "      fill: #1967D2;\n",
              "      height: 32px;\n",
              "      padding: 0 0 0 0;\n",
              "      width: 32px;\n",
              "    }\n",
              "\n",
              "    .colab-df-convert:hover {\n",
              "      background-color: #E2EBFA;\n",
              "      box-shadow: 0px 1px 2px rgba(60, 64, 67, 0.3), 0px 1px 3px 1px rgba(60, 64, 67, 0.15);\n",
              "      fill: #174EA6;\n",
              "    }\n",
              "\n",
              "    [theme=dark] .colab-df-convert {\n",
              "      background-color: #3B4455;\n",
              "      fill: #D2E3FC;\n",
              "    }\n",
              "\n",
              "    [theme=dark] .colab-df-convert:hover {\n",
              "      background-color: #434B5C;\n",
              "      box-shadow: 0px 1px 3px 1px rgba(0, 0, 0, 0.15);\n",
              "      filter: drop-shadow(0px 1px 2px rgba(0, 0, 0, 0.3));\n",
              "      fill: #FFFFFF;\n",
              "    }\n",
              "  </style>\n",
              "\n",
              "      <script>\n",
              "        const buttonEl =\n",
              "          document.querySelector('#df-d8f942a3-5166-446c-b36c-222e580306ac button.colab-df-convert');\n",
              "        buttonEl.style.display =\n",
              "          google.colab.kernel.accessAllowed ? 'block' : 'none';\n",
              "\n",
              "        async function convertToInteractive(key) {\n",
              "          const element = document.querySelector('#df-d8f942a3-5166-446c-b36c-222e580306ac');\n",
              "          const dataTable =\n",
              "            await google.colab.kernel.invokeFunction('convertToInteractive',\n",
              "                                                     [key], {});\n",
              "          if (!dataTable) return;\n",
              "\n",
              "          const docLinkHtml = 'Like what you see? Visit the ' +\n",
              "            '<a target=\"_blank\" href=https://colab.research.google.com/notebooks/data_table.ipynb>data table notebook</a>'\n",
              "            + ' to learn more about interactive tables.';\n",
              "          element.innerHTML = '';\n",
              "          dataTable['output_type'] = 'display_data';\n",
              "          await google.colab.output.renderOutput(dataTable, element);\n",
              "          const docLink = document.createElement('div');\n",
              "          docLink.innerHTML = docLinkHtml;\n",
              "          element.appendChild(docLink);\n",
              "        }\n",
              "      </script>\n",
              "    </div>\n",
              "  </div>\n",
              "  "
            ]
          },
          "metadata": {},
          "execution_count": 53
        }
      ]
    },
    {
      "cell_type": "code",
      "source": [
        "\n",
        "frequent_itemsets = apriori(data4, min_support=0.2, use_colnames=1)\n",
        "print(frequent_itemsets)"
      ],
      "metadata": {
        "colab": {
          "base_uri": "https://localhost:8080/"
        },
        "id": "a0Jlg2tbPKJy",
        "outputId": "e3d2cc47-3b97-4d21-efce-d835650ab43c"
      },
      "execution_count": 54,
      "outputs": [
        {
          "output_type": "stream",
          "name": "stdout",
          "text": [
            "     support                                           itemsets\n",
            "0   0.247548                                         (Gender_F)\n",
            "1   0.752452                                         (Gender_M)\n",
            "2   0.399950                                        (Age_26-35)\n",
            "3   0.267655                                  (City_Category_A)\n",
            "4   0.421945                                  (City_Category_B)\n",
            "5   0.310399                                  (City_Category_C)\n",
            "6   0.353615                     (Stay_In_Current_City_Years_1)\n",
            "7   0.589930                                 (Marital_Status_0)\n",
            "8   0.410070                                 (Marital_Status_1)\n",
            "9   0.258225                             (Product_Category_1_1)\n",
            "10  0.278327                             (Product_Category_1_5)\n",
            "11  0.207060                             (Product_Category_1_8)\n",
            "12  0.309693                           (Product_Category_2_0.0)\n",
            "13  0.695902                           (Product_Category_3_0.0)\n",
            "14  0.307150                              (Gender_M, Age_26-35)\n",
            "15  0.202090                        (City_Category_A, Gender_M)\n",
            "16  0.316722                        (City_Category_B, Gender_M)\n",
            "17  0.233640                        (Gender_M, City_Category_C)\n",
            "18  0.259642           (Gender_M, Stay_In_Current_City_Years_1)\n",
            "19  0.445888                       (Gender_M, Marital_Status_0)\n",
            "20  0.306564                       (Gender_M, Marital_Status_1)\n",
            "21  0.212480                   (Gender_M, Product_Category_1_1)\n",
            "22  0.200707                   (Gender_M, Product_Category_1_5)\n",
            "23  0.230343                 (Gender_M, Product_Category_2_0.0)\n",
            "24  0.516963                 (Gender_M, Product_Category_3_0.0)\n",
            "25  0.241885                      (Age_26-35, Marital_Status_0)\n",
            "26  0.278636                (Product_Category_3_0.0, Age_26-35)\n",
            "27  0.250138                (City_Category_B, Marital_Status_0)\n",
            "28  0.296166          (City_Category_B, Product_Category_3_0.0)\n",
            "29  0.207882          (Product_Category_3_0.0, City_Category_C)\n",
            "30  0.201957   (Stay_In_Current_City_Years_1, Marital_Status_0)\n",
            "31  0.246666  (Product_Category_3_0.0, Stay_In_Current_City_...\n",
            "32  0.408080         (Product_Category_3_0.0, Marital_Status_0)\n",
            "33  0.287822         (Product_Category_3_0.0, Marital_Status_1)\n",
            "34  0.243879     (Product_Category_3_0.0, Product_Category_1_5)\n",
            "35  0.309693   (Product_Category_2_0.0, Product_Category_3_0.0)\n",
            "36  0.210527      (Gender_M, Product_Category_3_0.0, Age_26-35)\n",
            "37  0.219389  (City_Category_B, Product_Category_3_0.0, Gend...\n",
            "38  0.304248  (Gender_M, Product_Category_3_0.0, Marital_Sta...\n",
            "39  0.212715  (Gender_M, Product_Category_3_0.0, Marital_Sta...\n",
            "40  0.230343  (Gender_M, Product_Category_2_0.0, Product_Cat...\n"
          ]
        }
      ]
    },
    {
      "cell_type": "markdown",
      "source": [
        "# 4) Mostrar todas las posibles reglas con la confianza de cada una de ellas."
      ],
      "metadata": {
        "id": "DtDT0ePvRMG9"
      }
    },
    {
      "cell_type": "code",
      "source": [
        "rules = association_rules(frequent_itemsets, metric='confidence',  min_threshold=0.6)\n",
        "rules.head()"
      ],
      "metadata": {
        "colab": {
          "base_uri": "https://localhost:8080/",
          "height": 206
        },
        "id": "LrQtwdolqDNa",
        "outputId": "d8ba4496-0191-4280-a43d-4d8e291c2b36"
      },
      "execution_count": 60,
      "outputs": [
        {
          "output_type": "execute_result",
          "data": {
            "text/plain": [
              "                      antecedents consequents  antecedent support  \\\n",
              "0                     (Age_26-35)  (Gender_M)            0.399950   \n",
              "1               (City_Category_A)  (Gender_M)            0.267655   \n",
              "2               (City_Category_B)  (Gender_M)            0.421945   \n",
              "3               (City_Category_C)  (Gender_M)            0.310399   \n",
              "4  (Stay_In_Current_City_Years_1)  (Gender_M)            0.353615   \n",
              "\n",
              "   consequent support   support  confidence      lift  leverage  conviction  \n",
              "0            0.752452  0.307150    0.767971  1.020625  0.006207    1.066885  \n",
              "1            0.752452  0.202090    0.755038  1.003437  0.000692    1.010558  \n",
              "2            0.752452  0.316722    0.750624  0.997571 -0.000771    0.992670  \n",
              "3            0.752452  0.233640    0.752707  1.000339  0.000079    1.001030  \n",
              "4            0.752452  0.259642    0.734250  0.975810 -0.006436    0.931508  "
            ],
            "text/html": [
              "\n",
              "  <div id=\"df-76bdc4c0-ec58-48b7-923b-6030efaadd9c\">\n",
              "    <div class=\"colab-df-container\">\n",
              "      <div>\n",
              "<style scoped>\n",
              "    .dataframe tbody tr th:only-of-type {\n",
              "        vertical-align: middle;\n",
              "    }\n",
              "\n",
              "    .dataframe tbody tr th {\n",
              "        vertical-align: top;\n",
              "    }\n",
              "\n",
              "    .dataframe thead th {\n",
              "        text-align: right;\n",
              "    }\n",
              "</style>\n",
              "<table border=\"1\" class=\"dataframe\">\n",
              "  <thead>\n",
              "    <tr style=\"text-align: right;\">\n",
              "      <th></th>\n",
              "      <th>antecedents</th>\n",
              "      <th>consequents</th>\n",
              "      <th>antecedent support</th>\n",
              "      <th>consequent support</th>\n",
              "      <th>support</th>\n",
              "      <th>confidence</th>\n",
              "      <th>lift</th>\n",
              "      <th>leverage</th>\n",
              "      <th>conviction</th>\n",
              "    </tr>\n",
              "  </thead>\n",
              "  <tbody>\n",
              "    <tr>\n",
              "      <th>0</th>\n",
              "      <td>(Age_26-35)</td>\n",
              "      <td>(Gender_M)</td>\n",
              "      <td>0.399950</td>\n",
              "      <td>0.752452</td>\n",
              "      <td>0.307150</td>\n",
              "      <td>0.767971</td>\n",
              "      <td>1.020625</td>\n",
              "      <td>0.006207</td>\n",
              "      <td>1.066885</td>\n",
              "    </tr>\n",
              "    <tr>\n",
              "      <th>1</th>\n",
              "      <td>(City_Category_A)</td>\n",
              "      <td>(Gender_M)</td>\n",
              "      <td>0.267655</td>\n",
              "      <td>0.752452</td>\n",
              "      <td>0.202090</td>\n",
              "      <td>0.755038</td>\n",
              "      <td>1.003437</td>\n",
              "      <td>0.000692</td>\n",
              "      <td>1.010558</td>\n",
              "    </tr>\n",
              "    <tr>\n",
              "      <th>2</th>\n",
              "      <td>(City_Category_B)</td>\n",
              "      <td>(Gender_M)</td>\n",
              "      <td>0.421945</td>\n",
              "      <td>0.752452</td>\n",
              "      <td>0.316722</td>\n",
              "      <td>0.750624</td>\n",
              "      <td>0.997571</td>\n",
              "      <td>-0.000771</td>\n",
              "      <td>0.992670</td>\n",
              "    </tr>\n",
              "    <tr>\n",
              "      <th>3</th>\n",
              "      <td>(City_Category_C)</td>\n",
              "      <td>(Gender_M)</td>\n",
              "      <td>0.310399</td>\n",
              "      <td>0.752452</td>\n",
              "      <td>0.233640</td>\n",
              "      <td>0.752707</td>\n",
              "      <td>1.000339</td>\n",
              "      <td>0.000079</td>\n",
              "      <td>1.001030</td>\n",
              "    </tr>\n",
              "    <tr>\n",
              "      <th>4</th>\n",
              "      <td>(Stay_In_Current_City_Years_1)</td>\n",
              "      <td>(Gender_M)</td>\n",
              "      <td>0.353615</td>\n",
              "      <td>0.752452</td>\n",
              "      <td>0.259642</td>\n",
              "      <td>0.734250</td>\n",
              "      <td>0.975810</td>\n",
              "      <td>-0.006436</td>\n",
              "      <td>0.931508</td>\n",
              "    </tr>\n",
              "  </tbody>\n",
              "</table>\n",
              "</div>\n",
              "      <button class=\"colab-df-convert\" onclick=\"convertToInteractive('df-76bdc4c0-ec58-48b7-923b-6030efaadd9c')\"\n",
              "              title=\"Convert this dataframe to an interactive table.\"\n",
              "              style=\"display:none;\">\n",
              "        \n",
              "  <svg xmlns=\"http://www.w3.org/2000/svg\" height=\"24px\"viewBox=\"0 0 24 24\"\n",
              "       width=\"24px\">\n",
              "    <path d=\"M0 0h24v24H0V0z\" fill=\"none\"/>\n",
              "    <path d=\"M18.56 5.44l.94 2.06.94-2.06 2.06-.94-2.06-.94-.94-2.06-.94 2.06-2.06.94zm-11 1L8.5 8.5l.94-2.06 2.06-.94-2.06-.94L8.5 2.5l-.94 2.06-2.06.94zm10 10l.94 2.06.94-2.06 2.06-.94-2.06-.94-.94-2.06-.94 2.06-2.06.94z\"/><path d=\"M17.41 7.96l-1.37-1.37c-.4-.4-.92-.59-1.43-.59-.52 0-1.04.2-1.43.59L10.3 9.45l-7.72 7.72c-.78.78-.78 2.05 0 2.83L4 21.41c.39.39.9.59 1.41.59.51 0 1.02-.2 1.41-.59l7.78-7.78 2.81-2.81c.8-.78.8-2.07 0-2.86zM5.41 20L4 18.59l7.72-7.72 1.47 1.35L5.41 20z\"/>\n",
              "  </svg>\n",
              "      </button>\n",
              "      \n",
              "  <style>\n",
              "    .colab-df-container {\n",
              "      display:flex;\n",
              "      flex-wrap:wrap;\n",
              "      gap: 12px;\n",
              "    }\n",
              "\n",
              "    .colab-df-convert {\n",
              "      background-color: #E8F0FE;\n",
              "      border: none;\n",
              "      border-radius: 50%;\n",
              "      cursor: pointer;\n",
              "      display: none;\n",
              "      fill: #1967D2;\n",
              "      height: 32px;\n",
              "      padding: 0 0 0 0;\n",
              "      width: 32px;\n",
              "    }\n",
              "\n",
              "    .colab-df-convert:hover {\n",
              "      background-color: #E2EBFA;\n",
              "      box-shadow: 0px 1px 2px rgba(60, 64, 67, 0.3), 0px 1px 3px 1px rgba(60, 64, 67, 0.15);\n",
              "      fill: #174EA6;\n",
              "    }\n",
              "\n",
              "    [theme=dark] .colab-df-convert {\n",
              "      background-color: #3B4455;\n",
              "      fill: #D2E3FC;\n",
              "    }\n",
              "\n",
              "    [theme=dark] .colab-df-convert:hover {\n",
              "      background-color: #434B5C;\n",
              "      box-shadow: 0px 1px 3px 1px rgba(0, 0, 0, 0.15);\n",
              "      filter: drop-shadow(0px 1px 2px rgba(0, 0, 0, 0.3));\n",
              "      fill: #FFFFFF;\n",
              "    }\n",
              "  </style>\n",
              "\n",
              "      <script>\n",
              "        const buttonEl =\n",
              "          document.querySelector('#df-76bdc4c0-ec58-48b7-923b-6030efaadd9c button.colab-df-convert');\n",
              "        buttonEl.style.display =\n",
              "          google.colab.kernel.accessAllowed ? 'block' : 'none';\n",
              "\n",
              "        async function convertToInteractive(key) {\n",
              "          const element = document.querySelector('#df-76bdc4c0-ec58-48b7-923b-6030efaadd9c');\n",
              "          const dataTable =\n",
              "            await google.colab.kernel.invokeFunction('convertToInteractive',\n",
              "                                                     [key], {});\n",
              "          if (!dataTable) return;\n",
              "\n",
              "          const docLinkHtml = 'Like what you see? Visit the ' +\n",
              "            '<a target=\"_blank\" href=https://colab.research.google.com/notebooks/data_table.ipynb>data table notebook</a>'\n",
              "            + ' to learn more about interactive tables.';\n",
              "          element.innerHTML = '';\n",
              "          dataTable['output_type'] = 'display_data';\n",
              "          await google.colab.output.renderOutput(dataTable, element);\n",
              "          const docLink = document.createElement('div');\n",
              "          docLink.innerHTML = docLinkHtml;\n",
              "          element.appendChild(docLink);\n",
              "        }\n",
              "      </script>\n",
              "    </div>\n",
              "  </div>\n",
              "  "
            ]
          },
          "metadata": {},
          "execution_count": 60
        }
      ]
    },
    {
      "cell_type": "markdown",
      "source": [
        "# 5) Listar todas las reglas que sean de alta confianza."
      ],
      "metadata": {
        "id": "UTttHoU-RYgW"
      }
    },
    {
      "cell_type": "markdown",
      "source": [
        "1- SEGÚN SU CONFIANZA"
      ],
      "metadata": {
        "id": "CVSaVhDjc_cg"
      }
    },
    {
      "cell_type": "code",
      "source": [
        "rules_sort = rules.sort_values(by=['confidence'], ascending=False)\n",
        "rules_sort.head()"
      ],
      "metadata": {
        "colab": {
          "base_uri": "https://localhost:8080/",
          "height": 206
        },
        "id": "w7sG75iqxjNk",
        "outputId": "1ebfedce-f62a-439e-d347-85033c8029fe"
      },
      "execution_count": 61,
      "outputs": [
        {
          "output_type": "execute_result",
          "data": {
            "text/plain": [
              "                           antecedents               consequents  \\\n",
              "29  (Gender_M, Product_Category_2_0.0)  (Product_Category_3_0.0)   \n",
              "20            (Product_Category_2_0.0)  (Product_Category_3_0.0)   \n",
              "19              (Product_Category_1_5)  (Product_Category_3_0.0)   \n",
              "7               (Product_Category_1_1)                (Gender_M)   \n",
              "0                          (Age_26-35)                (Gender_M)   \n",
              "\n",
              "    antecedent support  consequent support   support  confidence      lift  \\\n",
              "29            0.230343            0.695902  0.230343    1.000000  1.436984   \n",
              "20            0.309693            0.695902  0.309693    1.000000  1.436984   \n",
              "19            0.278327            0.695902  0.243879    0.876232  1.259132   \n",
              "7             0.258225            0.752452  0.212480    0.822848  1.093555   \n",
              "0             0.399950            0.752452  0.307150    0.767971  1.020625   \n",
              "\n",
              "    leverage  conviction  \n",
              "29  0.070047         inf  \n",
              "20  0.094177         inf  \n",
              "19  0.050191    2.457008  \n",
              "7   0.018178    1.397375  \n",
              "0   0.006207    1.066885  "
            ],
            "text/html": [
              "\n",
              "  <div id=\"df-57031651-5d10-4e1e-953b-54efc2f6cd13\">\n",
              "    <div class=\"colab-df-container\">\n",
              "      <div>\n",
              "<style scoped>\n",
              "    .dataframe tbody tr th:only-of-type {\n",
              "        vertical-align: middle;\n",
              "    }\n",
              "\n",
              "    .dataframe tbody tr th {\n",
              "        vertical-align: top;\n",
              "    }\n",
              "\n",
              "    .dataframe thead th {\n",
              "        text-align: right;\n",
              "    }\n",
              "</style>\n",
              "<table border=\"1\" class=\"dataframe\">\n",
              "  <thead>\n",
              "    <tr style=\"text-align: right;\">\n",
              "      <th></th>\n",
              "      <th>antecedents</th>\n",
              "      <th>consequents</th>\n",
              "      <th>antecedent support</th>\n",
              "      <th>consequent support</th>\n",
              "      <th>support</th>\n",
              "      <th>confidence</th>\n",
              "      <th>lift</th>\n",
              "      <th>leverage</th>\n",
              "      <th>conviction</th>\n",
              "    </tr>\n",
              "  </thead>\n",
              "  <tbody>\n",
              "    <tr>\n",
              "      <th>29</th>\n",
              "      <td>(Gender_M, Product_Category_2_0.0)</td>\n",
              "      <td>(Product_Category_3_0.0)</td>\n",
              "      <td>0.230343</td>\n",
              "      <td>0.695902</td>\n",
              "      <td>0.230343</td>\n",
              "      <td>1.000000</td>\n",
              "      <td>1.436984</td>\n",
              "      <td>0.070047</td>\n",
              "      <td>inf</td>\n",
              "    </tr>\n",
              "    <tr>\n",
              "      <th>20</th>\n",
              "      <td>(Product_Category_2_0.0)</td>\n",
              "      <td>(Product_Category_3_0.0)</td>\n",
              "      <td>0.309693</td>\n",
              "      <td>0.695902</td>\n",
              "      <td>0.309693</td>\n",
              "      <td>1.000000</td>\n",
              "      <td>1.436984</td>\n",
              "      <td>0.094177</td>\n",
              "      <td>inf</td>\n",
              "    </tr>\n",
              "    <tr>\n",
              "      <th>19</th>\n",
              "      <td>(Product_Category_1_5)</td>\n",
              "      <td>(Product_Category_3_0.0)</td>\n",
              "      <td>0.278327</td>\n",
              "      <td>0.695902</td>\n",
              "      <td>0.243879</td>\n",
              "      <td>0.876232</td>\n",
              "      <td>1.259132</td>\n",
              "      <td>0.050191</td>\n",
              "      <td>2.457008</td>\n",
              "    </tr>\n",
              "    <tr>\n",
              "      <th>7</th>\n",
              "      <td>(Product_Category_1_1)</td>\n",
              "      <td>(Gender_M)</td>\n",
              "      <td>0.258225</td>\n",
              "      <td>0.752452</td>\n",
              "      <td>0.212480</td>\n",
              "      <td>0.822848</td>\n",
              "      <td>1.093555</td>\n",
              "      <td>0.018178</td>\n",
              "      <td>1.397375</td>\n",
              "    </tr>\n",
              "    <tr>\n",
              "      <th>0</th>\n",
              "      <td>(Age_26-35)</td>\n",
              "      <td>(Gender_M)</td>\n",
              "      <td>0.399950</td>\n",
              "      <td>0.752452</td>\n",
              "      <td>0.307150</td>\n",
              "      <td>0.767971</td>\n",
              "      <td>1.020625</td>\n",
              "      <td>0.006207</td>\n",
              "      <td>1.066885</td>\n",
              "    </tr>\n",
              "  </tbody>\n",
              "</table>\n",
              "</div>\n",
              "      <button class=\"colab-df-convert\" onclick=\"convertToInteractive('df-57031651-5d10-4e1e-953b-54efc2f6cd13')\"\n",
              "              title=\"Convert this dataframe to an interactive table.\"\n",
              "              style=\"display:none;\">\n",
              "        \n",
              "  <svg xmlns=\"http://www.w3.org/2000/svg\" height=\"24px\"viewBox=\"0 0 24 24\"\n",
              "       width=\"24px\">\n",
              "    <path d=\"M0 0h24v24H0V0z\" fill=\"none\"/>\n",
              "    <path d=\"M18.56 5.44l.94 2.06.94-2.06 2.06-.94-2.06-.94-.94-2.06-.94 2.06-2.06.94zm-11 1L8.5 8.5l.94-2.06 2.06-.94-2.06-.94L8.5 2.5l-.94 2.06-2.06.94zm10 10l.94 2.06.94-2.06 2.06-.94-2.06-.94-.94-2.06-.94 2.06-2.06.94z\"/><path d=\"M17.41 7.96l-1.37-1.37c-.4-.4-.92-.59-1.43-.59-.52 0-1.04.2-1.43.59L10.3 9.45l-7.72 7.72c-.78.78-.78 2.05 0 2.83L4 21.41c.39.39.9.59 1.41.59.51 0 1.02-.2 1.41-.59l7.78-7.78 2.81-2.81c.8-.78.8-2.07 0-2.86zM5.41 20L4 18.59l7.72-7.72 1.47 1.35L5.41 20z\"/>\n",
              "  </svg>\n",
              "      </button>\n",
              "      \n",
              "  <style>\n",
              "    .colab-df-container {\n",
              "      display:flex;\n",
              "      flex-wrap:wrap;\n",
              "      gap: 12px;\n",
              "    }\n",
              "\n",
              "    .colab-df-convert {\n",
              "      background-color: #E8F0FE;\n",
              "      border: none;\n",
              "      border-radius: 50%;\n",
              "      cursor: pointer;\n",
              "      display: none;\n",
              "      fill: #1967D2;\n",
              "      height: 32px;\n",
              "      padding: 0 0 0 0;\n",
              "      width: 32px;\n",
              "    }\n",
              "\n",
              "    .colab-df-convert:hover {\n",
              "      background-color: #E2EBFA;\n",
              "      box-shadow: 0px 1px 2px rgba(60, 64, 67, 0.3), 0px 1px 3px 1px rgba(60, 64, 67, 0.15);\n",
              "      fill: #174EA6;\n",
              "    }\n",
              "\n",
              "    [theme=dark] .colab-df-convert {\n",
              "      background-color: #3B4455;\n",
              "      fill: #D2E3FC;\n",
              "    }\n",
              "\n",
              "    [theme=dark] .colab-df-convert:hover {\n",
              "      background-color: #434B5C;\n",
              "      box-shadow: 0px 1px 3px 1px rgba(0, 0, 0, 0.15);\n",
              "      filter: drop-shadow(0px 1px 2px rgba(0, 0, 0, 0.3));\n",
              "      fill: #FFFFFF;\n",
              "    }\n",
              "  </style>\n",
              "\n",
              "      <script>\n",
              "        const buttonEl =\n",
              "          document.querySelector('#df-57031651-5d10-4e1e-953b-54efc2f6cd13 button.colab-df-convert');\n",
              "        buttonEl.style.display =\n",
              "          google.colab.kernel.accessAllowed ? 'block' : 'none';\n",
              "\n",
              "        async function convertToInteractive(key) {\n",
              "          const element = document.querySelector('#df-57031651-5d10-4e1e-953b-54efc2f6cd13');\n",
              "          const dataTable =\n",
              "            await google.colab.kernel.invokeFunction('convertToInteractive',\n",
              "                                                     [key], {});\n",
              "          if (!dataTable) return;\n",
              "\n",
              "          const docLinkHtml = 'Like what you see? Visit the ' +\n",
              "            '<a target=\"_blank\" href=https://colab.research.google.com/notebooks/data_table.ipynb>data table notebook</a>'\n",
              "            + ' to learn more about interactive tables.';\n",
              "          element.innerHTML = '';\n",
              "          dataTable['output_type'] = 'display_data';\n",
              "          await google.colab.output.renderOutput(dataTable, element);\n",
              "          const docLink = document.createElement('div');\n",
              "          docLink.innerHTML = docLinkHtml;\n",
              "          element.appendChild(docLink);\n",
              "        }\n",
              "      </script>\n",
              "    </div>\n",
              "  </div>\n",
              "  "
            ]
          },
          "metadata": {},
          "execution_count": 61
        }
      ]
    },
    {
      "cell_type": "markdown",
      "source": [
        "# 6) Dado un antecesor, devolver todas las reglas que contengan a dicho antecesor. \n"
      ],
      "metadata": {
        "id": "yEfhKS7AaAPc"
      }
    },
    {
      "cell_type": "code",
      "source": [
        "rules['antecedents']"
      ],
      "metadata": {
        "colab": {
          "base_uri": "https://localhost:8080/"
        },
        "id": "mhu2sSDAtEwu",
        "outputId": "64b1f1e5-b7dc-4286-ab67-7de931ad19d7"
      },
      "execution_count": 62,
      "outputs": [
        {
          "output_type": "execute_result",
          "data": {
            "text/plain": [
              "0                                          (Age_26-35)\n",
              "1                                    (City_Category_A)\n",
              "2                                    (City_Category_B)\n",
              "3                                    (City_Category_C)\n",
              "4                       (Stay_In_Current_City_Years_1)\n",
              "5                                   (Marital_Status_0)\n",
              "6                                   (Marital_Status_1)\n",
              "7                               (Product_Category_1_1)\n",
              "8                               (Product_Category_1_5)\n",
              "9                             (Product_Category_2_0.0)\n",
              "10                                          (Gender_M)\n",
              "11                            (Product_Category_3_0.0)\n",
              "12                                         (Age_26-35)\n",
              "13                                         (Age_26-35)\n",
              "14                                   (City_Category_B)\n",
              "15                                   (City_Category_C)\n",
              "16                      (Stay_In_Current_City_Years_1)\n",
              "17                                  (Marital_Status_0)\n",
              "18                                  (Marital_Status_1)\n",
              "19                              (Product_Category_1_5)\n",
              "20                            (Product_Category_2_0.0)\n",
              "21                               (Gender_M, Age_26-35)\n",
              "22                 (Product_Category_3_0.0, Age_26-35)\n",
              "23           (City_Category_B, Product_Category_3_0.0)\n",
              "24                         (City_Category_B, Gender_M)\n",
              "25                        (Gender_M, Marital_Status_0)\n",
              "26          (Product_Category_3_0.0, Marital_Status_0)\n",
              "27                        (Gender_M, Marital_Status_1)\n",
              "28          (Product_Category_3_0.0, Marital_Status_1)\n",
              "29                  (Gender_M, Product_Category_2_0.0)\n",
              "30    (Product_Category_2_0.0, Product_Category_3_0.0)\n",
              "31                            (Product_Category_2_0.0)\n",
              "Name: antecedents, dtype: object"
            ]
          },
          "metadata": {},
          "execution_count": 62
        }
      ]
    },
    {
      "cell_type": "code",
      "source": [
        "if any(rules['antecedents']=={'Medio'})>0:\n",
        "  apariciones_antecedente= sum(rules['antecedents'] =={'Medio'})\n",
        "  print(\"Número de veces que está: \", apariciones_antecedente)\n",
        "else:\n",
        "  print(\"NO esta\")"
      ],
      "metadata": {
        "colab": {
          "base_uri": "https://localhost:8080/"
        },
        "id": "hRZl7qWgtTwk",
        "outputId": "b51776d8-166d-4600-c4c4-882a283af1e7"
      },
      "execution_count": 63,
      "outputs": [
        {
          "output_type": "stream",
          "name": "stdout",
          "text": [
            "NO esta\n"
          ]
        }
      ]
    },
    {
      "cell_type": "code",
      "source": [
        "for i in range(len(rules)):\n",
        "  if rules['antecedents'][i] == {'Medio'}:\n",
        "    print(rules.iloc[i])"
      ],
      "metadata": {
        "id": "zViAuTVUwMOd"
      },
      "execution_count": 64,
      "outputs": []
    },
    {
      "cell_type": "markdown",
      "source": [
        "## 6.2) Dado un umbral mínimo devolver todas las reglas que cumplan con dicha confianza."
      ],
      "metadata": {
        "id": "YAZe0oECcI8V"
      }
    },
    {
      "cell_type": "code",
      "source": [
        "rules = association_rules(frequent_itemsets, metric='confidence', min_threshold=0.6)\n",
        "rules.head()"
      ],
      "metadata": {
        "colab": {
          "base_uri": "https://localhost:8080/",
          "height": 206
        },
        "id": "C9RRCW_ydzRC",
        "outputId": "29a0682b-4734-4bf5-cf90-1f76fda547c6"
      },
      "execution_count": 66,
      "outputs": [
        {
          "output_type": "execute_result",
          "data": {
            "text/plain": [
              "                      antecedents consequents  antecedent support  \\\n",
              "0                     (Age_26-35)  (Gender_M)            0.399950   \n",
              "1               (City_Category_A)  (Gender_M)            0.267655   \n",
              "2               (City_Category_B)  (Gender_M)            0.421945   \n",
              "3               (City_Category_C)  (Gender_M)            0.310399   \n",
              "4  (Stay_In_Current_City_Years_1)  (Gender_M)            0.353615   \n",
              "\n",
              "   consequent support   support  confidence      lift  leverage  conviction  \n",
              "0            0.752452  0.307150    0.767971  1.020625  0.006207    1.066885  \n",
              "1            0.752452  0.202090    0.755038  1.003437  0.000692    1.010558  \n",
              "2            0.752452  0.316722    0.750624  0.997571 -0.000771    0.992670  \n",
              "3            0.752452  0.233640    0.752707  1.000339  0.000079    1.001030  \n",
              "4            0.752452  0.259642    0.734250  0.975810 -0.006436    0.931508  "
            ],
            "text/html": [
              "\n",
              "  <div id=\"df-73408484-f08c-4ef5-835e-b3b87e16fe1d\">\n",
              "    <div class=\"colab-df-container\">\n",
              "      <div>\n",
              "<style scoped>\n",
              "    .dataframe tbody tr th:only-of-type {\n",
              "        vertical-align: middle;\n",
              "    }\n",
              "\n",
              "    .dataframe tbody tr th {\n",
              "        vertical-align: top;\n",
              "    }\n",
              "\n",
              "    .dataframe thead th {\n",
              "        text-align: right;\n",
              "    }\n",
              "</style>\n",
              "<table border=\"1\" class=\"dataframe\">\n",
              "  <thead>\n",
              "    <tr style=\"text-align: right;\">\n",
              "      <th></th>\n",
              "      <th>antecedents</th>\n",
              "      <th>consequents</th>\n",
              "      <th>antecedent support</th>\n",
              "      <th>consequent support</th>\n",
              "      <th>support</th>\n",
              "      <th>confidence</th>\n",
              "      <th>lift</th>\n",
              "      <th>leverage</th>\n",
              "      <th>conviction</th>\n",
              "    </tr>\n",
              "  </thead>\n",
              "  <tbody>\n",
              "    <tr>\n",
              "      <th>0</th>\n",
              "      <td>(Age_26-35)</td>\n",
              "      <td>(Gender_M)</td>\n",
              "      <td>0.399950</td>\n",
              "      <td>0.752452</td>\n",
              "      <td>0.307150</td>\n",
              "      <td>0.767971</td>\n",
              "      <td>1.020625</td>\n",
              "      <td>0.006207</td>\n",
              "      <td>1.066885</td>\n",
              "    </tr>\n",
              "    <tr>\n",
              "      <th>1</th>\n",
              "      <td>(City_Category_A)</td>\n",
              "      <td>(Gender_M)</td>\n",
              "      <td>0.267655</td>\n",
              "      <td>0.752452</td>\n",
              "      <td>0.202090</td>\n",
              "      <td>0.755038</td>\n",
              "      <td>1.003437</td>\n",
              "      <td>0.000692</td>\n",
              "      <td>1.010558</td>\n",
              "    </tr>\n",
              "    <tr>\n",
              "      <th>2</th>\n",
              "      <td>(City_Category_B)</td>\n",
              "      <td>(Gender_M)</td>\n",
              "      <td>0.421945</td>\n",
              "      <td>0.752452</td>\n",
              "      <td>0.316722</td>\n",
              "      <td>0.750624</td>\n",
              "      <td>0.997571</td>\n",
              "      <td>-0.000771</td>\n",
              "      <td>0.992670</td>\n",
              "    </tr>\n",
              "    <tr>\n",
              "      <th>3</th>\n",
              "      <td>(City_Category_C)</td>\n",
              "      <td>(Gender_M)</td>\n",
              "      <td>0.310399</td>\n",
              "      <td>0.752452</td>\n",
              "      <td>0.233640</td>\n",
              "      <td>0.752707</td>\n",
              "      <td>1.000339</td>\n",
              "      <td>0.000079</td>\n",
              "      <td>1.001030</td>\n",
              "    </tr>\n",
              "    <tr>\n",
              "      <th>4</th>\n",
              "      <td>(Stay_In_Current_City_Years_1)</td>\n",
              "      <td>(Gender_M)</td>\n",
              "      <td>0.353615</td>\n",
              "      <td>0.752452</td>\n",
              "      <td>0.259642</td>\n",
              "      <td>0.734250</td>\n",
              "      <td>0.975810</td>\n",
              "      <td>-0.006436</td>\n",
              "      <td>0.931508</td>\n",
              "    </tr>\n",
              "  </tbody>\n",
              "</table>\n",
              "</div>\n",
              "      <button class=\"colab-df-convert\" onclick=\"convertToInteractive('df-73408484-f08c-4ef5-835e-b3b87e16fe1d')\"\n",
              "              title=\"Convert this dataframe to an interactive table.\"\n",
              "              style=\"display:none;\">\n",
              "        \n",
              "  <svg xmlns=\"http://www.w3.org/2000/svg\" height=\"24px\"viewBox=\"0 0 24 24\"\n",
              "       width=\"24px\">\n",
              "    <path d=\"M0 0h24v24H0V0z\" fill=\"none\"/>\n",
              "    <path d=\"M18.56 5.44l.94 2.06.94-2.06 2.06-.94-2.06-.94-.94-2.06-.94 2.06-2.06.94zm-11 1L8.5 8.5l.94-2.06 2.06-.94-2.06-.94L8.5 2.5l-.94 2.06-2.06.94zm10 10l.94 2.06.94-2.06 2.06-.94-2.06-.94-.94-2.06-.94 2.06-2.06.94z\"/><path d=\"M17.41 7.96l-1.37-1.37c-.4-.4-.92-.59-1.43-.59-.52 0-1.04.2-1.43.59L10.3 9.45l-7.72 7.72c-.78.78-.78 2.05 0 2.83L4 21.41c.39.39.9.59 1.41.59.51 0 1.02-.2 1.41-.59l7.78-7.78 2.81-2.81c.8-.78.8-2.07 0-2.86zM5.41 20L4 18.59l7.72-7.72 1.47 1.35L5.41 20z\"/>\n",
              "  </svg>\n",
              "      </button>\n",
              "      \n",
              "  <style>\n",
              "    .colab-df-container {\n",
              "      display:flex;\n",
              "      flex-wrap:wrap;\n",
              "      gap: 12px;\n",
              "    }\n",
              "\n",
              "    .colab-df-convert {\n",
              "      background-color: #E8F0FE;\n",
              "      border: none;\n",
              "      border-radius: 50%;\n",
              "      cursor: pointer;\n",
              "      display: none;\n",
              "      fill: #1967D2;\n",
              "      height: 32px;\n",
              "      padding: 0 0 0 0;\n",
              "      width: 32px;\n",
              "    }\n",
              "\n",
              "    .colab-df-convert:hover {\n",
              "      background-color: #E2EBFA;\n",
              "      box-shadow: 0px 1px 2px rgba(60, 64, 67, 0.3), 0px 1px 3px 1px rgba(60, 64, 67, 0.15);\n",
              "      fill: #174EA6;\n",
              "    }\n",
              "\n",
              "    [theme=dark] .colab-df-convert {\n",
              "      background-color: #3B4455;\n",
              "      fill: #D2E3FC;\n",
              "    }\n",
              "\n",
              "    [theme=dark] .colab-df-convert:hover {\n",
              "      background-color: #434B5C;\n",
              "      box-shadow: 0px 1px 3px 1px rgba(0, 0, 0, 0.15);\n",
              "      filter: drop-shadow(0px 1px 2px rgba(0, 0, 0, 0.3));\n",
              "      fill: #FFFFFF;\n",
              "    }\n",
              "  </style>\n",
              "\n",
              "      <script>\n",
              "        const buttonEl =\n",
              "          document.querySelector('#df-73408484-f08c-4ef5-835e-b3b87e16fe1d button.colab-df-convert');\n",
              "        buttonEl.style.display =\n",
              "          google.colab.kernel.accessAllowed ? 'block' : 'none';\n",
              "\n",
              "        async function convertToInteractive(key) {\n",
              "          const element = document.querySelector('#df-73408484-f08c-4ef5-835e-b3b87e16fe1d');\n",
              "          const dataTable =\n",
              "            await google.colab.kernel.invokeFunction('convertToInteractive',\n",
              "                                                     [key], {});\n",
              "          if (!dataTable) return;\n",
              "\n",
              "          const docLinkHtml = 'Like what you see? Visit the ' +\n",
              "            '<a target=\"_blank\" href=https://colab.research.google.com/notebooks/data_table.ipynb>data table notebook</a>'\n",
              "            + ' to learn more about interactive tables.';\n",
              "          element.innerHTML = '';\n",
              "          dataTable['output_type'] = 'display_data';\n",
              "          await google.colab.output.renderOutput(dataTable, element);\n",
              "          const docLink = document.createElement('div');\n",
              "          docLink.innerHTML = docLinkHtml;\n",
              "          element.appendChild(docLink);\n",
              "        }\n",
              "      </script>\n",
              "    </div>\n",
              "  </div>\n",
              "  "
            ]
          },
          "metadata": {},
          "execution_count": 66
        }
      ]
    },
    {
      "cell_type": "markdown",
      "source": [
        "# 7) Representar gráficamente las reglas obtenidas\n"
      ],
      "metadata": {
        "id": "tTEjhbREcSWZ"
      }
    },
    {
      "cell_type": "markdown",
      "source": [
        "Es interesante analizar las siguientes graficas:\n",
        "\n",
        "Soporte vs. Cantidad de elementos: Con esta grafica podemos representar el soporte de cada conjunto de elementos de diferentes tamaños. Puede ayudar a identificar los conjuntos de elementos más frecuentes y sus tamaños.\n",
        "\n",
        "Confianza vs. soporte: Este gráfico muestra la confianza de las reglas de asociación frente a su soporte. Puede ayudar a identificar las reglas que son de alta calidad y tienen un alto soporte.\n",
        "\n",
        "Lift vs. soporte: Este puede ayudar a identificar las reglas que tienen mayor impacto significativo en la venta de los elementos.\n",
        "\n",
        "Matriz de gráfico de dispersión: Este gráfico muestra la correlación entre diferentes elementos. Puede ayudar a identificar los patrones de co-ocurrencia entre elementos."
      ],
      "metadata": {
        "id": "UcPECgd-SC-_"
      }
    },
    {
      "cell_type": "code",
      "source": [
        "plt.xlabel('rules.support')\n",
        "plt.ylabel('rules.condidence')\n",
        "plt.plot(rules.support, rules.confidence, '*')  "
      ],
      "metadata": {
        "colab": {
          "base_uri": "https://localhost:8080/",
          "height": 297
        },
        "id": "JouNKaTQYjCV",
        "outputId": "ac44268f-ebcb-4c74-b324-4f0dcfc94717"
      },
      "execution_count": 67,
      "outputs": [
        {
          "output_type": "execute_result",
          "data": {
            "text/plain": [
              "[<matplotlib.lines.Line2D at 0x7f66a52a80d0>]"
            ]
          },
          "metadata": {},
          "execution_count": 67
        },
        {
          "output_type": "display_data",
          "data": {
            "text/plain": [
              "<Figure size 432x288 with 1 Axes>"
            ],
            "image/png": "[encoded data removed]"
          },
          "metadata": {
            "needs_background": "light"
          }
        }
      ]
    },
    {
      "cell_type": "markdown",
      "source": [
        "## 7.1) Obtener conclusiones a partir de estas"
      ],
      "metadata": {
        "id": "mtqmFmXKcrW8"
      }
    },
    {
      "cell_type": "code",
      "source": [
        "rules_maximales = rules [max(rules)]\n",
        "rules_maximales.head()"
      ],
      "metadata": {
        "colab": {
          "base_uri": "https://localhost:8080/"
        },
        "id": "Ojs7TwtI0Z8W",
        "outputId": "f636f09b-1cfc-4710-fd46-d5b14684b64d"
      },
      "execution_count": 68,
      "outputs": [
        {
          "output_type": "execute_result",
          "data": {
            "text/plain": [
              "0    0.307150\n",
              "1    0.202090\n",
              "2    0.316722\n",
              "3    0.233640\n",
              "4    0.259642\n",
              "Name: support, dtype: float64"
            ]
          },
          "metadata": {},
          "execution_count": 68
        }
      ]
    },
    {
      "cell_type": "markdown",
      "source": [
        "2- SEGÚN SU LIFT"
      ],
      "metadata": {
        "id": "ROJKcdIXxzFL"
      }
    },
    {
      "cell_type": "code",
      "source": [
        "rules = association_rules(frequent_itemsets, metric='lift', min_threshold=0.8)\n",
        "rules_sort = rules.sort_values(by=['lift'], ascending=False)\n",
        "rules_sort.head()"
      ],
      "metadata": {
        "id": "DWnzDfagmYVj",
        "colab": {
          "base_uri": "https://localhost:8080/",
          "height": 206
        },
        "outputId": "78c713d7-833b-468f-9208-acfe4317c88d"
      },
      "execution_count": 69,
      "outputs": [
        {
          "output_type": "execute_result",
          "data": {
            "text/plain": [
              "                           antecedents                         consequents  \\\n",
              "69  (Gender_M, Product_Category_3_0.0)            (Product_Category_2_0.0)   \n",
              "72            (Product_Category_2_0.0)  (Gender_M, Product_Category_3_0.0)   \n",
              "73            (Product_Category_3_0.0)  (Gender_M, Product_Category_2_0.0)   \n",
              "43            (Product_Category_3_0.0)            (Product_Category_2_0.0)   \n",
              "68  (Gender_M, Product_Category_2_0.0)            (Product_Category_3_0.0)   \n",
              "\n",
              "    antecedent support  consequent support   support  confidence      lift  \\\n",
              "69            0.516963            0.309693  0.230343    0.445571  1.438749   \n",
              "72            0.309693            0.516963  0.230343    0.743780  1.438749   \n",
              "73            0.695902            0.230343  0.230343    0.331000  1.436984   \n",
              "43            0.695902            0.309693  0.309693    0.445024  1.436984   \n",
              "68            0.230343            0.695902  0.230343    1.000000  1.436984   \n",
              "\n",
              "    leverage  conviction  \n",
              "69  0.070244    1.245076  \n",
              "72  0.070244    1.885242  \n",
              "73  0.070047    1.150458  \n",
              "43  0.094177    1.243850  \n",
              "68  0.070047         inf  "
            ],
            "text/html": [
              "\n",
              "  <div id=\"df-ed155317-4f2c-46fe-bb9f-c73ba5279562\">\n",
              "    <div class=\"colab-df-container\">\n",
              "      <div>\n",
              "<style scoped>\n",
              "    .dataframe tbody tr th:only-of-type {\n",
              "        vertical-align: middle;\n",
              "    }\n",
              "\n",
              "    .dataframe tbody tr th {\n",
              "        vertical-align: top;\n",
              "    }\n",
              "\n",
              "    .dataframe thead th {\n",
              "        text-align: right;\n",
              "    }\n",
              "</style>\n",
              "<table border=\"1\" class=\"dataframe\">\n",
              "  <thead>\n",
              "    <tr style=\"text-align: right;\">\n",
              "      <th></th>\n",
              "      <th>antecedents</th>\n",
              "      <th>consequents</th>\n",
              "      <th>antecedent support</th>\n",
              "      <th>consequent support</th>\n",
              "      <th>support</th>\n",
              "      <th>confidence</th>\n",
              "      <th>lift</th>\n",
              "      <th>leverage</th>\n",
              "      <th>conviction</th>\n",
              "    </tr>\n",
              "  </thead>\n",
              "  <tbody>\n",
              "    <tr>\n",
              "      <th>69</th>\n",
              "      <td>(Gender_M, Product_Category_3_0.0)</td>\n",
              "      <td>(Product_Category_2_0.0)</td>\n",
              "      <td>0.516963</td>\n",
              "      <td>0.309693</td>\n",
              "      <td>0.230343</td>\n",
              "      <td>0.445571</td>\n",
              "      <td>1.438749</td>\n",
              "      <td>0.070244</td>\n",
              "      <td>1.245076</td>\n",
              "    </tr>\n",
              "    <tr>\n",
              "      <th>72</th>\n",
              "      <td>(Product_Category_2_0.0)</td>\n",
              "      <td>(Gender_M, Product_Category_3_0.0)</td>\n",
              "      <td>0.309693</td>\n",
              "      <td>0.516963</td>\n",
              "      <td>0.230343</td>\n",
              "      <td>0.743780</td>\n",
              "      <td>1.438749</td>\n",
              "      <td>0.070244</td>\n",
              "      <td>1.885242</td>\n",
              "    </tr>\n",
              "    <tr>\n",
              "      <th>73</th>\n",
              "      <td>(Product_Category_3_0.0)</td>\n",
              "      <td>(Gender_M, Product_Category_2_0.0)</td>\n",
              "      <td>0.695902</td>\n",
              "      <td>0.230343</td>\n",
              "      <td>0.230343</td>\n",
              "      <td>0.331000</td>\n",
              "      <td>1.436984</td>\n",
              "      <td>0.070047</td>\n",
              "      <td>1.150458</td>\n",
              "    </tr>\n",
              "    <tr>\n",
              "      <th>43</th>\n",
              "      <td>(Product_Category_3_0.0)</td>\n",
              "      <td>(Product_Category_2_0.0)</td>\n",
              "      <td>0.695902</td>\n",
              "      <td>0.309693</td>\n",
              "      <td>0.309693</td>\n",
              "      <td>0.445024</td>\n",
              "      <td>1.436984</td>\n",
              "      <td>0.094177</td>\n",
              "      <td>1.243850</td>\n",
              "    </tr>\n",
              "    <tr>\n",
              "      <th>68</th>\n",
              "      <td>(Gender_M, Product_Category_2_0.0)</td>\n",
              "      <td>(Product_Category_3_0.0)</td>\n",
              "      <td>0.230343</td>\n",
              "      <td>0.695902</td>\n",
              "      <td>0.230343</td>\n",
              "      <td>1.000000</td>\n",
              "      <td>1.436984</td>\n",
              "      <td>0.070047</td>\n",
              "      <td>inf</td>\n",
              "    </tr>\n",
              "  </tbody>\n",
              "</table>\n",
              "</div>\n",
              "      <button class=\"colab-df-convert\" onclick=\"convertToInteractive('df-ed155317-4f2c-46fe-bb9f-c73ba5279562')\"\n",
              "              title=\"Convert this dataframe to an interactive table.\"\n",
              "              style=\"display:none;\">\n",
              "        \n",
              "  <svg xmlns=\"http://www.w3.org/2000/svg\" height=\"24px\"viewBox=\"0 0 24 24\"\n",
              "       width=\"24px\">\n",
              "    <path d=\"M0 0h24v24H0V0z\" fill=\"none\"/>\n",
              "    <path d=\"M18.56 5.44l.94 2.06.94-2.06 2.06-.94-2.06-.94-.94-2.06-.94 2.06-2.06.94zm-11 1L8.5 8.5l.94-2.06 2.06-.94-2.06-.94L8.5 2.5l-.94 2.06-2.06.94zm10 10l.94 2.06.94-2.06 2.06-.94-2.06-.94-.94-2.06-.94 2.06-2.06.94z\"/><path d=\"M17.41 7.96l-1.37-1.37c-.4-.4-.92-.59-1.43-.59-.52 0-1.04.2-1.43.59L10.3 9.45l-7.72 7.72c-.78.78-.78 2.05 0 2.83L4 21.41c.39.39.9.59 1.41.59.51 0 1.02-.2 1.41-.59l7.78-7.78 2.81-2.81c.8-.78.8-2.07 0-2.86zM5.41 20L4 18.59l7.72-7.72 1.47 1.35L5.41 20z\"/>\n",
              "  </svg>\n",
              "      </button>\n",
              "      \n",
              "  <style>\n",
              "    .colab-df-container {\n",
              "      display:flex;\n",
              "      flex-wrap:wrap;\n",
              "      gap: 12px;\n",
              "    }\n",
              "\n",
              "    .colab-df-convert {\n",
              "      background-color: #E8F0FE;\n",
              "      border: none;\n",
              "      border-radius: 50%;\n",
              "      cursor: pointer;\n",
              "      display: none;\n",
              "      fill: #1967D2;\n",
              "      height: 32px;\n",
              "      padding: 0 0 0 0;\n",
              "      width: 32px;\n",
              "    }\n",
              "\n",
              "    .colab-df-convert:hover {\n",
              "      background-color: #E2EBFA;\n",
              "      box-shadow: 0px 1px 2px rgba(60, 64, 67, 0.3), 0px 1px 3px 1px rgba(60, 64, 67, 0.15);\n",
              "      fill: #174EA6;\n",
              "    }\n",
              "\n",
              "    [theme=dark] .colab-df-convert {\n",
              "      background-color: #3B4455;\n",
              "      fill: #D2E3FC;\n",
              "    }\n",
              "\n",
              "    [theme=dark] .colab-df-convert:hover {\n",
              "      background-color: #434B5C;\n",
              "      box-shadow: 0px 1px 3px 1px rgba(0, 0, 0, 0.15);\n",
              "      filter: drop-shadow(0px 1px 2px rgba(0, 0, 0, 0.3));\n",
              "      fill: #FFFFFF;\n",
              "    }\n",
              "  </style>\n",
              "\n",
              "      <script>\n",
              "        const buttonEl =\n",
              "          document.querySelector('#df-ed155317-4f2c-46fe-bb9f-c73ba5279562 button.colab-df-convert');\n",
              "        buttonEl.style.display =\n",
              "          google.colab.kernel.accessAllowed ? 'block' : 'none';\n",
              "\n",
              "        async function convertToInteractive(key) {\n",
              "          const element = document.querySelector('#df-ed155317-4f2c-46fe-bb9f-c73ba5279562');\n",
              "          const dataTable =\n",
              "            await google.colab.kernel.invokeFunction('convertToInteractive',\n",
              "                                                     [key], {});\n",
              "          if (!dataTable) return;\n",
              "\n",
              "          const docLinkHtml = 'Like what you see? Visit the ' +\n",
              "            '<a target=\"_blank\" href=https://colab.research.google.com/notebooks/data_table.ipynb>data table notebook</a>'\n",
              "            + ' to learn more about interactive tables.';\n",
              "          element.innerHTML = '';\n",
              "          dataTable['output_type'] = 'display_data';\n",
              "          await google.colab.output.renderOutput(dataTable, element);\n",
              "          const docLink = document.createElement('div');\n",
              "          docLink.innerHTML = docLinkHtml;\n",
              "          element.appendChild(docLink);\n",
              "        }\n",
              "      </script>\n",
              "    </div>\n",
              "  </div>\n",
              "  "
            ]
          },
          "metadata": {},
          "execution_count": 69
        }
      ]
    },
    {
      "cell_type": "code",
      "source": [
        "plt.xlabel('rules.support')\n",
        "plt.ylabel('rules.condidence')\n",
        "plt.plot(rules.support, rules.confidence, '*')  "
      ],
      "metadata": {
        "colab": {
          "base_uri": "https://localhost:8080/",
          "height": 297
        },
        "id": "hHNxtnzZYoLz",
        "outputId": "989e1396-ef08-482a-d1db-cc42be43dc17"
      },
      "execution_count": 70,
      "outputs": [
        {
          "output_type": "execute_result",
          "data": {
            "text/plain": [
              "[<matplotlib.lines.Line2D at 0x7f66a51c4d90>]"
            ]
          },
          "metadata": {},
          "execution_count": 70
        },
        {
          "output_type": "display_data",
          "data": {
            "text/plain": [
              "<Figure size 432x288 with 1 Axes>"
            ],
            "image/png": "[encoded data removed]"
          },
          "metadata": {
            "needs_background": "light"
          }
        }
      ]
    },
    {
      "cell_type": "code",
      "source": [
        "rules_maximales = rules [max(rules)]\n",
        "rules_maximales.head()"
      ],
      "metadata": {
        "colab": {
          "base_uri": "https://localhost:8080/"
        },
        "id": "-qHV_s1Y1ndR",
        "outputId": "52dfa369-29d8-45ea-facd-2656b3314a05"
      },
      "execution_count": 71,
      "outputs": [
        {
          "output_type": "execute_result",
          "data": {
            "text/plain": [
              "0    0.307150\n",
              "1    0.307150\n",
              "2    0.202090\n",
              "3    0.202090\n",
              "4    0.316722\n",
              "Name: support, dtype: float64"
            ]
          },
          "metadata": {},
          "execution_count": 71
        }
      ]
    },
    {
      "cell_type": "markdown",
      "source": [
        "DECIR QUE REGLAS DESAPARECEN DEPENDIENDO DE LAS COMBINACIONES DE CONFIGURACIÓN Y CATEGORÍAS QUE TOMAMOS\n",
        "\n",
        "EJ 1: HOMBRE POSTUNI TIPO PRODUCTO 2 + LIFT \n",
        "\n",
        "EJ 2: MUJER JUBI TIPO PRODUCTO 1 + CONFIANCE"
      ],
      "metadata": {
        "id": "ADMQ8yqLl-uH"
      }
    },
    {
      "cell_type": "markdown",
      "source": [
        "-   Para   una   de   las   configuraciones,   interpreta   algunas   de   las   reglas\n",
        "  que   \n",
        "  te   hayan   resultado   interesantes\n",
        "obtenidas   usando   la   clase  association_rules  y   \n",
        "un   par   de   configuraciones   cambiando   la   variable  metric  y\n",
        "min_threshold.  \n",
        "Justifica los resultados. (1 punto)"
      ],
      "metadata": {
        "id": "Ber1eSlG4g3F"
      }
    },
    {
      "cell_type": "code",
      "source": [
        "rules = association_rules(frequent_itemsets, metric='lift', min_threshold=0.4)\n",
        "rules_sort = rules.sort_values(by=['lift'], ascending=False)\n",
        "rules_sort.head()"
      ],
      "metadata": {
        "colab": {
          "base_uri": "https://localhost:8080/",
          "height": 206
        },
        "id": "4NHpj703-y4t",
        "outputId": "fc6c99ea-7b3d-4fea-fabb-21eded1a200f"
      },
      "execution_count": 72,
      "outputs": [
        {
          "output_type": "execute_result",
          "data": {
            "text/plain": [
              "                           antecedents                         consequents  \\\n",
              "69  (Gender_M, Product_Category_3_0.0)            (Product_Category_2_0.0)   \n",
              "72            (Product_Category_2_0.0)  (Gender_M, Product_Category_3_0.0)   \n",
              "73            (Product_Category_3_0.0)  (Gender_M, Product_Category_2_0.0)   \n",
              "43            (Product_Category_3_0.0)            (Product_Category_2_0.0)   \n",
              "68  (Gender_M, Product_Category_2_0.0)            (Product_Category_3_0.0)   \n",
              "\n",
              "    antecedent support  consequent support   support  confidence      lift  \\\n",
              "69            0.516963            0.309693  0.230343    0.445571  1.438749   \n",
              "72            0.309693            0.516963  0.230343    0.743780  1.438749   \n",
              "73            0.695902            0.230343  0.230343    0.331000  1.436984   \n",
              "43            0.695902            0.309693  0.309693    0.445024  1.436984   \n",
              "68            0.230343            0.695902  0.230343    1.000000  1.436984   \n",
              "\n",
              "    leverage  conviction  \n",
              "69  0.070244    1.245076  \n",
              "72  0.070244    1.885242  \n",
              "73  0.070047    1.150458  \n",
              "43  0.094177    1.243850  \n",
              "68  0.070047         inf  "
            ],
            "text/html": [
              "\n",
              "  <div id=\"df-84064eb9-54fa-4d11-b233-9e445ccfd0cc\">\n",
              "    <div class=\"colab-df-container\">\n",
              "      <div>\n",
              "<style scoped>\n",
              "    .dataframe tbody tr th:only-of-type {\n",
              "        vertical-align: middle;\n",
              "    }\n",
              "\n",
              "    .dataframe tbody tr th {\n",
              "        vertical-align: top;\n",
              "    }\n",
              "\n",
              "    .dataframe thead th {\n",
              "        text-align: right;\n",
              "    }\n",
              "</style>\n",
              "<table border=\"1\" class=\"dataframe\">\n",
              "  <thead>\n",
              "    <tr style=\"text-align: right;\">\n",
              "      <th></th>\n",
              "      <th>antecedents</th>\n",
              "      <th>consequents</th>\n",
              "      <th>antecedent support</th>\n",
              "      <th>consequent support</th>\n",
              "      <th>support</th>\n",
              "      <th>confidence</th>\n",
              "      <th>lift</th>\n",
              "      <th>leverage</th>\n",
              "      <th>conviction</th>\n",
              "    </tr>\n",
              "  </thead>\n",
              "  <tbody>\n",
              "    <tr>\n",
              "      <th>69</th>\n",
              "      <td>(Gender_M, Product_Category_3_0.0)</td>\n",
              "      <td>(Product_Category_2_0.0)</td>\n",
              "      <td>0.516963</td>\n",
              "      <td>0.309693</td>\n",
              "      <td>0.230343</td>\n",
              "      <td>0.445571</td>\n",
              "      <td>1.438749</td>\n",
              "      <td>0.070244</td>\n",
              "      <td>1.245076</td>\n",
              "    </tr>\n",
              "    <tr>\n",
              "      <th>72</th>\n",
              "      <td>(Product_Category_2_0.0)</td>\n",
              "      <td>(Gender_M, Product_Category_3_0.0)</td>\n",
              "      <td>0.309693</td>\n",
              "      <td>0.516963</td>\n",
              "      <td>0.230343</td>\n",
              "      <td>0.743780</td>\n",
              "      <td>1.438749</td>\n",
              "      <td>0.070244</td>\n",
              "      <td>1.885242</td>\n",
              "    </tr>\n",
              "    <tr>\n",
              "      <th>73</th>\n",
              "      <td>(Product_Category_3_0.0)</td>\n",
              "      <td>(Gender_M, Product_Category_2_0.0)</td>\n",
              "      <td>0.695902</td>\n",
              "      <td>0.230343</td>\n",
              "      <td>0.230343</td>\n",
              "      <td>0.331000</td>\n",
              "      <td>1.436984</td>\n",
              "      <td>0.070047</td>\n",
              "      <td>1.150458</td>\n",
              "    </tr>\n",
              "    <tr>\n",
              "      <th>43</th>\n",
              "      <td>(Product_Category_3_0.0)</td>\n",
              "      <td>(Product_Category_2_0.0)</td>\n",
              "      <td>0.695902</td>\n",
              "      <td>0.309693</td>\n",
              "      <td>0.309693</td>\n",
              "      <td>0.445024</td>\n",
              "      <td>1.436984</td>\n",
              "      <td>0.094177</td>\n",
              "      <td>1.243850</td>\n",
              "    </tr>\n",
              "    <tr>\n",
              "      <th>68</th>\n",
              "      <td>(Gender_M, Product_Category_2_0.0)</td>\n",
              "      <td>(Product_Category_3_0.0)</td>\n",
              "      <td>0.230343</td>\n",
              "      <td>0.695902</td>\n",
              "      <td>0.230343</td>\n",
              "      <td>1.000000</td>\n",
              "      <td>1.436984</td>\n",
              "      <td>0.070047</td>\n",
              "      <td>inf</td>\n",
              "    </tr>\n",
              "  </tbody>\n",
              "</table>\n",
              "</div>\n",
              "      <button class=\"colab-df-convert\" onclick=\"convertToInteractive('df-84064eb9-54fa-4d11-b233-9e445ccfd0cc')\"\n",
              "              title=\"Convert this dataframe to an interactive table.\"\n",
              "              style=\"display:none;\">\n",
              "        \n",
              "  <svg xmlns=\"http://www.w3.org/2000/svg\" height=\"24px\"viewBox=\"0 0 24 24\"\n",
              "       width=\"24px\">\n",
              "    <path d=\"M0 0h24v24H0V0z\" fill=\"none\"/>\n",
              "    <path d=\"M18.56 5.44l.94 2.06.94-2.06 2.06-.94-2.06-.94-.94-2.06-.94 2.06-2.06.94zm-11 1L8.5 8.5l.94-2.06 2.06-.94-2.06-.94L8.5 2.5l-.94 2.06-2.06.94zm10 10l.94 2.06.94-2.06 2.06-.94-2.06-.94-.94-2.06-.94 2.06-2.06.94z\"/><path d=\"M17.41 7.96l-1.37-1.37c-.4-.4-.92-.59-1.43-.59-.52 0-1.04.2-1.43.59L10.3 9.45l-7.72 7.72c-.78.78-.78 2.05 0 2.83L4 21.41c.39.39.9.59 1.41.59.51 0 1.02-.2 1.41-.59l7.78-7.78 2.81-2.81c.8-.78.8-2.07 0-2.86zM5.41 20L4 18.59l7.72-7.72 1.47 1.35L5.41 20z\"/>\n",
              "  </svg>\n",
              "      </button>\n",
              "      \n",
              "  <style>\n",
              "    .colab-df-container {\n",
              "      display:flex;\n",
              "      flex-wrap:wrap;\n",
              "      gap: 12px;\n",
              "    }\n",
              "\n",
              "    .colab-df-convert {\n",
              "      background-color: #E8F0FE;\n",
              "      border: none;\n",
              "      border-radius: 50%;\n",
              "      cursor: pointer;\n",
              "      display: none;\n",
              "      fill: #1967D2;\n",
              "      height: 32px;\n",
              "      padding: 0 0 0 0;\n",
              "      width: 32px;\n",
              "    }\n",
              "\n",
              "    .colab-df-convert:hover {\n",
              "      background-color: #E2EBFA;\n",
              "      box-shadow: 0px 1px 2px rgba(60, 64, 67, 0.3), 0px 1px 3px 1px rgba(60, 64, 67, 0.15);\n",
              "      fill: #174EA6;\n",
              "    }\n",
              "\n",
              "    [theme=dark] .colab-df-convert {\n",
              "      background-color: #3B4455;\n",
              "      fill: #D2E3FC;\n",
              "    }\n",
              "\n",
              "    [theme=dark] .colab-df-convert:hover {\n",
              "      background-color: #434B5C;\n",
              "      box-shadow: 0px 1px 3px 1px rgba(0, 0, 0, 0.15);\n",
              "      filter: drop-shadow(0px 1px 2px rgba(0, 0, 0, 0.3));\n",
              "      fill: #FFFFFF;\n",
              "    }\n",
              "  </style>\n",
              "\n",
              "      <script>\n",
              "        const buttonEl =\n",
              "          document.querySelector('#df-84064eb9-54fa-4d11-b233-9e445ccfd0cc button.colab-df-convert');\n",
              "        buttonEl.style.display =\n",
              "          google.colab.kernel.accessAllowed ? 'block' : 'none';\n",
              "\n",
              "        async function convertToInteractive(key) {\n",
              "          const element = document.querySelector('#df-84064eb9-54fa-4d11-b233-9e445ccfd0cc');\n",
              "          const dataTable =\n",
              "            await google.colab.kernel.invokeFunction('convertToInteractive',\n",
              "                                                     [key], {});\n",
              "          if (!dataTable) return;\n",
              "\n",
              "          const docLinkHtml = 'Like what you see? Visit the ' +\n",
              "            '<a target=\"_blank\" href=https://colab.research.google.com/notebooks/data_table.ipynb>data table notebook</a>'\n",
              "            + ' to learn more about interactive tables.';\n",
              "          element.innerHTML = '';\n",
              "          dataTable['output_type'] = 'display_data';\n",
              "          await google.colab.output.renderOutput(dataTable, element);\n",
              "          const docLink = document.createElement('div');\n",
              "          docLink.innerHTML = docLinkHtml;\n",
              "          element.appendChild(docLink);\n",
              "        }\n",
              "      </script>\n",
              "    </div>\n",
              "  </div>\n",
              "  "
            ]
          },
          "metadata": {},
          "execution_count": 72
        }
      ]
    },
    {
      "cell_type": "code",
      "source": [
        "any(rules.duplicated())"
      ],
      "metadata": {
        "colab": {
          "base_uri": "https://localhost:8080/"
        },
        "id": "EgpkvpwP338z",
        "outputId": "a0bd7d15-82ed-42a2-8366-75f85099fbb5"
      },
      "execution_count": 73,
      "outputs": [
        {
          "output_type": "execute_result",
          "data": {
            "text/plain": [
              "False"
            ]
          },
          "metadata": {},
          "execution_count": 73
        }
      ]
    },
    {
      "cell_type": "markdown",
      "source": [
        "- Dadas las mejores configuraciones. ¿Existen reglas o patrones que se repitan? ¿Podemos generalizar  de\n",
        "alguna manera como se comportan los clientes? Expón las conclusiones respaldadas con datos (1 punto)"
      ],
      "metadata": {
        "id": "V7L_pEXRR8Yv"
      }
    },
    {
      "cell_type": "code",
      "source": [
        "plt.xlabel('rules.support')\n",
        "plt.ylabel('rules.condidence')\n",
        "plt.plot(rules.support, rules.confidence, '*')  "
      ],
      "metadata": {
        "colab": {
          "base_uri": "https://localhost:8080/",
          "height": 297
        },
        "id": "pG1_vU163jC2",
        "outputId": "2300a6eb-771a-4efd-cb6f-d60e63339833"
      },
      "execution_count": 74,
      "outputs": [
        {
          "output_type": "execute_result",
          "data": {
            "text/plain": [
              "[<matplotlib.lines.Line2D at 0x7f66a515f2e0>]"
            ]
          },
          "metadata": {},
          "execution_count": 74
        },
        {
          "output_type": "display_data",
          "data": {
            "text/plain": [
              "<Figure size 432x288 with 1 Axes>"
            ],
            "image/png": "[encoded data removed]"
          },
          "metadata": {
            "needs_background": "light"
          }
        }
      ]
    },
    {
      "cell_type": "markdown",
      "source": [
        "#Se Pide:"
      ],
      "metadata": {
        "id": "zjD1XxHYgwXh"
      }
    },
    {
      "cell_type": "markdown",
      "source": [
        "A partir de lo anterior se pide:"
      ],
      "metadata": {
        "id": "JPkUyBrlTfWE"
      }
    },
    {
      "cell_type": "markdown",
      "source": [
        "- Prueba al menos tres configuraciones de soporte y frecuencia para cada género, edad y tipo de producto.\n",
        "(1 punto)"
      ],
      "metadata": {
        "id": "ZfTZJOw6An9D"
      }
    },
    {
      "cell_type": "markdown",
      "source": [
        "- ¿Qué diferencias hay entre usar soporte y frecuencia? Respalda la respuesta con datos"
      ],
      "metadata": {
        "id": "kYqd7ljv09xV"
      }
    },
    {
      "cell_type": "markdown",
      "source": [
        "-   ¿Qué   tipo   reglas   desaparecen   según   la   configuración   y   categorías   ( género,   edad   y   tipo   de   producto)\n",
        "consideradas? ¿Por qué? (1 punto)"
      ],
      "metadata": {
        "id": "0UuqR9ggxuoB"
      }
    },
    {
      "cell_type": "markdown",
      "source": [
        "2 TIPOS DE CLASIFICAR REGLAS SEGÚN SU CONFIGURACIÓN:\n",
        "\n",
        "1- SEGÚN SU CONFIANZA\n",
        "\n",
        "CONFIZANZA= SOPORTE(1) / SOPORTE(1,2)\n",
        "\n",
        "2- SEGÚN SU LIFT\n",
        "\n",
        "LIFT = CONFIANZA / SOPORTE\n",
        "\n",
        "3 TIPOS DE CLASIFICAR REGLAS SEGÚN SU CATEGORÍA:\n",
        "\n",
        "1- GÉNERO 2- EDAD 3- TIPO DE PRODUCTO"
      ],
      "metadata": {
        "id": "WOlpGerBiZEs"
      }
    },
    {
      "cell_type": "markdown",
      "source": [
        "-   Para   una   de   las   configuraciones,   interpreta   algunas   de   las   reglas   que   te   hayan   resultado   interesantes\n",
        "obtenidas   usando   la   clase  association_rules  y   un   par   de   configuraciones   cambiando   la   variable  metric  y\n",
        "min_threshold. Justifica los resultados. (1 punto)"
      ],
      "metadata": {
        "id": "eZWC4cwShgrO"
      }
    },
    {
      "cell_type": "markdown",
      "source": [
        "- Dadas las mejores configuraciones. ¿Existen reglas o patrones que se repitan? ¿Podemos generalizar  de\n",
        "alguna manera como se comportan los clientes? Expón las conclusiones respaldadas con datos (1 punto)"
      ],
      "metadata": {
        "id": "CTBLBt6-hepk"
      }
    }
  ]
}